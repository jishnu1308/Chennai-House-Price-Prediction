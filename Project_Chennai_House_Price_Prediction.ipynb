{
  "nbformat": 4,
  "nbformat_minor": 0,
  "metadata": {
    "colab": {
      "provenance": [],
      "collapsed_sections": []
    },
    "kernelspec": {
      "name": "python3",
      "display_name": "Python 3"
    },
    "language_info": {
      "name": "python"
    }
  },
  "cells": [
    {
      "cell_type": "code",
      "execution_count": null,
      "metadata": {
        "id": "w0bIxiJiLLQb"
      },
      "outputs": [],
      "source": [
        "import pandas as pd\n",
        "import numpy as np\n",
        "import matplotlib.pyplot as plt\n",
        "import seaborn as sns\n"
      ]
    },
    {
      "cell_type": "code",
      "source": [
        "from google.colab import drive\n",
        "drive.mount('/content/drive')"
      ],
      "metadata": {
        "colab": {
          "base_uri": "https://localhost:8080/"
        },
        "id": "MOftAwR8NZcZ",
        "outputId": "90ff9fbf-6a3e-4c62-86f1-0b065854105d"
      },
      "execution_count": null,
      "outputs": [
        {
          "output_type": "stream",
          "name": "stdout",
          "text": [
            "Drive already mounted at /content/drive; to attempt to forcibly remount, call drive.mount(\"/content/drive\", force_remount=True).\n"
          ]
        }
      ]
    },
    {
      "cell_type": "code",
      "source": [
        "df=pd.read_csv('/content/train-chennai-sale.csv')\n",
        "df.head()"
      ],
      "metadata": {
        "colab": {
          "base_uri": "https://localhost:8080/",
          "height": 386
        },
        "id": "ngYWfKn0Jysw",
        "outputId": "76566442-09b2-4762-b9d0-947691ad86e4"
      },
      "execution_count": null,
      "outputs": [
        {
          "output_type": "execute_result",
          "data": {
            "text/plain": [
              "   PRT_ID        AREA  INT_SQFT   DATE_SALE  DIST_MAINROAD  N_BEDROOM  \\\n",
              "0  P03210  Karapakkam      1004  04-05-2011            131        1.0   \n",
              "1  P09411  Anna Nagar      1986  19-12-2006             26        2.0   \n",
              "2  P01812       Adyar       909  04-02-2012             70        1.0   \n",
              "3  P05346   Velachery      1855  13-03-2010             14        3.0   \n",
              "4  P06210  Karapakkam      1226  05-10-2009             84        1.0   \n",
              "\n",
              "   N_BATHROOM  N_ROOM SALE_COND PARK_FACIL  ... UTILITY_AVAIL  STREET MZZONE  \\\n",
              "0         1.0       3  AbNormal        Yes  ...        AllPub   Paved      A   \n",
              "1         1.0       5  AbNormal         No  ...        AllPub  Gravel     RH   \n",
              "2         1.0       3  AbNormal        Yes  ...           ELO  Gravel     RL   \n",
              "3         2.0       5    Family         No  ...       NoSewr    Paved      I   \n",
              "4         1.0       3  AbNormal        Yes  ...        AllPub  Gravel      C   \n",
              "\n",
              "  QS_ROOMS QS_BATHROOM  QS_BEDROOM  QS_OVERALL  REG_FEE  COMMIS  SALES_PRICE  \n",
              "0      4.0         3.9         4.9       4.330   380000  144400      7600000  \n",
              "1      4.9         4.2         2.5       3.765   760122  304049     21717770  \n",
              "2      4.1         3.8         2.2       3.090   421094   92114     13159200  \n",
              "3      4.7         3.9         3.6       4.010   356321   77042      9630290  \n",
              "4      3.0         2.5         4.1       3.290   237000   74063      7406250  \n",
              "\n",
              "[5 rows x 22 columns]"
            ],
            "text/html": [
              "\n",
              "  <div id=\"df-1ebdb05d-bcbb-4f25-abf7-6b0aee9aeabe\">\n",
              "    <div class=\"colab-df-container\">\n",
              "      <div>\n",
              "<style scoped>\n",
              "    .dataframe tbody tr th:only-of-type {\n",
              "        vertical-align: middle;\n",
              "    }\n",
              "\n",
              "    .dataframe tbody tr th {\n",
              "        vertical-align: top;\n",
              "    }\n",
              "\n",
              "    .dataframe thead th {\n",
              "        text-align: right;\n",
              "    }\n",
              "</style>\n",
              "<table border=\"1\" class=\"dataframe\">\n",
              "  <thead>\n",
              "    <tr style=\"text-align: right;\">\n",
              "      <th></th>\n",
              "      <th>PRT_ID</th>\n",
              "      <th>AREA</th>\n",
              "      <th>INT_SQFT</th>\n",
              "      <th>DATE_SALE</th>\n",
              "      <th>DIST_MAINROAD</th>\n",
              "      <th>N_BEDROOM</th>\n",
              "      <th>N_BATHROOM</th>\n",
              "      <th>N_ROOM</th>\n",
              "      <th>SALE_COND</th>\n",
              "      <th>PARK_FACIL</th>\n",
              "      <th>...</th>\n",
              "      <th>UTILITY_AVAIL</th>\n",
              "      <th>STREET</th>\n",
              "      <th>MZZONE</th>\n",
              "      <th>QS_ROOMS</th>\n",
              "      <th>QS_BATHROOM</th>\n",
              "      <th>QS_BEDROOM</th>\n",
              "      <th>QS_OVERALL</th>\n",
              "      <th>REG_FEE</th>\n",
              "      <th>COMMIS</th>\n",
              "      <th>SALES_PRICE</th>\n",
              "    </tr>\n",
              "  </thead>\n",
              "  <tbody>\n",
              "    <tr>\n",
              "      <th>0</th>\n",
              "      <td>P03210</td>\n",
              "      <td>Karapakkam</td>\n",
              "      <td>1004</td>\n",
              "      <td>04-05-2011</td>\n",
              "      <td>131</td>\n",
              "      <td>1.0</td>\n",
              "      <td>1.0</td>\n",
              "      <td>3</td>\n",
              "      <td>AbNormal</td>\n",
              "      <td>Yes</td>\n",
              "      <td>...</td>\n",
              "      <td>AllPub</td>\n",
              "      <td>Paved</td>\n",
              "      <td>A</td>\n",
              "      <td>4.0</td>\n",
              "      <td>3.9</td>\n",
              "      <td>4.9</td>\n",
              "      <td>4.330</td>\n",
              "      <td>380000</td>\n",
              "      <td>144400</td>\n",
              "      <td>7600000</td>\n",
              "    </tr>\n",
              "    <tr>\n",
              "      <th>1</th>\n",
              "      <td>P09411</td>\n",
              "      <td>Anna Nagar</td>\n",
              "      <td>1986</td>\n",
              "      <td>19-12-2006</td>\n",
              "      <td>26</td>\n",
              "      <td>2.0</td>\n",
              "      <td>1.0</td>\n",
              "      <td>5</td>\n",
              "      <td>AbNormal</td>\n",
              "      <td>No</td>\n",
              "      <td>...</td>\n",
              "      <td>AllPub</td>\n",
              "      <td>Gravel</td>\n",
              "      <td>RH</td>\n",
              "      <td>4.9</td>\n",
              "      <td>4.2</td>\n",
              "      <td>2.5</td>\n",
              "      <td>3.765</td>\n",
              "      <td>760122</td>\n",
              "      <td>304049</td>\n",
              "      <td>21717770</td>\n",
              "    </tr>\n",
              "    <tr>\n",
              "      <th>2</th>\n",
              "      <td>P01812</td>\n",
              "      <td>Adyar</td>\n",
              "      <td>909</td>\n",
              "      <td>04-02-2012</td>\n",
              "      <td>70</td>\n",
              "      <td>1.0</td>\n",
              "      <td>1.0</td>\n",
              "      <td>3</td>\n",
              "      <td>AbNormal</td>\n",
              "      <td>Yes</td>\n",
              "      <td>...</td>\n",
              "      <td>ELO</td>\n",
              "      <td>Gravel</td>\n",
              "      <td>RL</td>\n",
              "      <td>4.1</td>\n",
              "      <td>3.8</td>\n",
              "      <td>2.2</td>\n",
              "      <td>3.090</td>\n",
              "      <td>421094</td>\n",
              "      <td>92114</td>\n",
              "      <td>13159200</td>\n",
              "    </tr>\n",
              "    <tr>\n",
              "      <th>3</th>\n",
              "      <td>P05346</td>\n",
              "      <td>Velachery</td>\n",
              "      <td>1855</td>\n",
              "      <td>13-03-2010</td>\n",
              "      <td>14</td>\n",
              "      <td>3.0</td>\n",
              "      <td>2.0</td>\n",
              "      <td>5</td>\n",
              "      <td>Family</td>\n",
              "      <td>No</td>\n",
              "      <td>...</td>\n",
              "      <td>NoSewr</td>\n",
              "      <td>Paved</td>\n",
              "      <td>I</td>\n",
              "      <td>4.7</td>\n",
              "      <td>3.9</td>\n",
              "      <td>3.6</td>\n",
              "      <td>4.010</td>\n",
              "      <td>356321</td>\n",
              "      <td>77042</td>\n",
              "      <td>9630290</td>\n",
              "    </tr>\n",
              "    <tr>\n",
              "      <th>4</th>\n",
              "      <td>P06210</td>\n",
              "      <td>Karapakkam</td>\n",
              "      <td>1226</td>\n",
              "      <td>05-10-2009</td>\n",
              "      <td>84</td>\n",
              "      <td>1.0</td>\n",
              "      <td>1.0</td>\n",
              "      <td>3</td>\n",
              "      <td>AbNormal</td>\n",
              "      <td>Yes</td>\n",
              "      <td>...</td>\n",
              "      <td>AllPub</td>\n",
              "      <td>Gravel</td>\n",
              "      <td>C</td>\n",
              "      <td>3.0</td>\n",
              "      <td>2.5</td>\n",
              "      <td>4.1</td>\n",
              "      <td>3.290</td>\n",
              "      <td>237000</td>\n",
              "      <td>74063</td>\n",
              "      <td>7406250</td>\n",
              "    </tr>\n",
              "  </tbody>\n",
              "</table>\n",
              "<p>5 rows × 22 columns</p>\n",
              "</div>\n",
              "      <button class=\"colab-df-convert\" onclick=\"convertToInteractive('df-1ebdb05d-bcbb-4f25-abf7-6b0aee9aeabe')\"\n",
              "              title=\"Convert this dataframe to an interactive table.\"\n",
              "              style=\"display:none;\">\n",
              "        \n",
              "  <svg xmlns=\"http://www.w3.org/2000/svg\" height=\"24px\"viewBox=\"0 0 24 24\"\n",
              "       width=\"24px\">\n",
              "    <path d=\"M0 0h24v24H0V0z\" fill=\"none\"/>\n",
              "    <path d=\"M18.56 5.44l.94 2.06.94-2.06 2.06-.94-2.06-.94-.94-2.06-.94 2.06-2.06.94zm-11 1L8.5 8.5l.94-2.06 2.06-.94-2.06-.94L8.5 2.5l-.94 2.06-2.06.94zm10 10l.94 2.06.94-2.06 2.06-.94-2.06-.94-.94-2.06-.94 2.06-2.06.94z\"/><path d=\"M17.41 7.96l-1.37-1.37c-.4-.4-.92-.59-1.43-.59-.52 0-1.04.2-1.43.59L10.3 9.45l-7.72 7.72c-.78.78-.78 2.05 0 2.83L4 21.41c.39.39.9.59 1.41.59.51 0 1.02-.2 1.41-.59l7.78-7.78 2.81-2.81c.8-.78.8-2.07 0-2.86zM5.41 20L4 18.59l7.72-7.72 1.47 1.35L5.41 20z\"/>\n",
              "  </svg>\n",
              "      </button>\n",
              "      \n",
              "  <style>\n",
              "    .colab-df-container {\n",
              "      display:flex;\n",
              "      flex-wrap:wrap;\n",
              "      gap: 12px;\n",
              "    }\n",
              "\n",
              "    .colab-df-convert {\n",
              "      background-color: #E8F0FE;\n",
              "      border: none;\n",
              "      border-radius: 50%;\n",
              "      cursor: pointer;\n",
              "      display: none;\n",
              "      fill: #1967D2;\n",
              "      height: 32px;\n",
              "      padding: 0 0 0 0;\n",
              "      width: 32px;\n",
              "    }\n",
              "\n",
              "    .colab-df-convert:hover {\n",
              "      background-color: #E2EBFA;\n",
              "      box-shadow: 0px 1px 2px rgba(60, 64, 67, 0.3), 0px 1px 3px 1px rgba(60, 64, 67, 0.15);\n",
              "      fill: #174EA6;\n",
              "    }\n",
              "\n",
              "    [theme=dark] .colab-df-convert {\n",
              "      background-color: #3B4455;\n",
              "      fill: #D2E3FC;\n",
              "    }\n",
              "\n",
              "    [theme=dark] .colab-df-convert:hover {\n",
              "      background-color: #434B5C;\n",
              "      box-shadow: 0px 1px 3px 1px rgba(0, 0, 0, 0.15);\n",
              "      filter: drop-shadow(0px 1px 2px rgba(0, 0, 0, 0.3));\n",
              "      fill: #FFFFFF;\n",
              "    }\n",
              "  </style>\n",
              "\n",
              "      <script>\n",
              "        const buttonEl =\n",
              "          document.querySelector('#df-1ebdb05d-bcbb-4f25-abf7-6b0aee9aeabe button.colab-df-convert');\n",
              "        buttonEl.style.display =\n",
              "          google.colab.kernel.accessAllowed ? 'block' : 'none';\n",
              "\n",
              "        async function convertToInteractive(key) {\n",
              "          const element = document.querySelector('#df-1ebdb05d-bcbb-4f25-abf7-6b0aee9aeabe');\n",
              "          const dataTable =\n",
              "            await google.colab.kernel.invokeFunction('convertToInteractive',\n",
              "                                                     [key], {});\n",
              "          if (!dataTable) return;\n",
              "\n",
              "          const docLinkHtml = 'Like what you see? Visit the ' +\n",
              "            '<a target=\"_blank\" href=https://colab.research.google.com/notebooks/data_table.ipynb>data table notebook</a>'\n",
              "            + ' to learn more about interactive tables.';\n",
              "          element.innerHTML = '';\n",
              "          dataTable['output_type'] = 'display_data';\n",
              "          await google.colab.output.renderOutput(dataTable, element);\n",
              "          const docLink = document.createElement('div');\n",
              "          docLink.innerHTML = docLinkHtml;\n",
              "          element.appendChild(docLink);\n",
              "        }\n",
              "      </script>\n",
              "    </div>\n",
              "  </div>\n",
              "  "
            ]
          },
          "metadata": {},
          "execution_count": 3
        }
      ]
    },
    {
      "cell_type": "markdown",
      "source": [
        "Data Cleaning"
      ],
      "metadata": {
        "id": "WrqSUovkTO36"
      }
    },
    {
      "cell_type": "code",
      "source": [
        "ds=df\n",
        "# Removing all the null values\n",
        "ds.dropna(inplace=True)\n",
        "\n",
        "# Renaming all the column names in lowercase letters\n",
        "ds.columns = ds.columns.str.lower()\n",
        "\n",
        "\n",
        "# Renaming all the string in area column names in lowercase letters\n",
        "ds.area = ds.area.str.lower()\n",
        "\n",
        "# Correcting the spelling mistakes in area columns\n",
        "ds.area = ds.area.replace({'velchery':'velachery', \n",
        "                       'kknagar':'kk nagar', \n",
        "                       'tnagar':'t nagar', \n",
        "                       'chormpet':'chrompet', \n",
        "                       'chrompt':'chrompet', \n",
        "                       'chrmpet':'chrompet', \n",
        "                       'ana nagar':'anna nagar', \n",
        "                       'ann nagar':'anna nagar',\n",
        "                       'karapakam':'karapakkam', \n",
        "                       'adyr':'adyar'})\n",
        "\n",
        "\n",
        "# Renaming all the string in sale_cond column names in lowercase letters\n",
        "ds.sale_cond = ds.sale_cond.str.lower()\n",
        "\n",
        "# Correcting the spelling mistakes in sale_cond columns\n",
        "ds.sale_cond = ds.sale_cond.replace({'adj land':'adjland', \n",
        "                       'normal sale':'normal sale',\n",
        "                       'partiall':'partial',\n",
        "                       'ab normal':'abnormal'})\n",
        "\n",
        "\n",
        "# Renaming all the string in park_facil column names in lowercase letters\n",
        "ds.park_facil = ds.park_facil.str.lower()\n",
        "\n",
        "# Correcting the spelling mistakes in park_facil columns\n",
        "ds.park_facil = ds.park_facil.replace({'noo':'no'})\n",
        "\n",
        "\n",
        "# Renaming all the string in buildtype column names in lowercase letters\n",
        "ds.buildtype = ds.buildtype.str.lower()\n",
        "\n",
        "# Correcting the spelling mistakes in buildtype columns\n",
        "ds.buildtype = ds.buildtype.replace({'comercial':'commercial', \n",
        "                       'others':'other'})\n",
        "\n",
        "\n",
        "# Renaming all the string in utility_avail column names in lowercase letters\n",
        "ds.utility_avail = ds.utility_avail.str.lower()\n",
        "\n",
        "# Correcting the spelling mistakes in utility_avail columns\n",
        "ds.utility_avail = ds.utility_avail.replace({'all pub':'allpub',\n",
        "                                             'nosewr':'nosewa'})\n",
        "                                            \n",
        "                                            \n",
        "# Renaming all the string in street column names in lowercase letters\n",
        "ds.street = ds.street.str.lower()\n",
        "\n",
        "# Correcting the spelling mistakes in street columns\n",
        "ds.street = ds.street.replace({'pavd':'paved', \n",
        "                       'noaccess':'no access'})\n",
        "\n",
        "\n",
        "# Renaming all the string in mzzone column names in lowercase letters\n",
        "ds.mzzone = ds.mzzone.str.lower()\n",
        "\n",
        "# Fixing the correct ds Type of columns\n",
        "ds.n_bedroom = ds.n_bedroom.astype(int)\n",
        "ds.n_bathroom = ds.n_bathroom.astype(int)\n",
        "\n",
        "# Correcting Date columnd from object to daterime format\n",
        "ds.date_sale = pd.to_datetime(ds.date_sale, format='%d-%m-%Y')\n",
        "ds.date_build = pd.to_datetime(ds.date_build, format='%d-%m-%Y')\n",
        "\n",
        "# Creating property_age column which deternine how old the property id\n",
        "ds['property_age'] = pd.DatetimeIndex(ds.date_sale).year - pd.DatetimeIndex(ds.date_build).year\n",
        "\n",
        "# Creating total_price column by adding 'reg_fee', 'commis', 'sales_price' columns\n",
        "ds['total_price'] = pd.DataFrame(ds.reg_fee\t+ ds.commis\t+ ds.sales_price)\n",
        "\n",
        "# Rearranging the columns of dsframe \n",
        "ds = ds.reindex(columns = ['prt_id', 'area', 'sale_cond', 'park_facil',\n",
        "       'buildtype', 'utility_avail', 'street', 'mzzone', \n",
        "       'date_build', 'date_sale', 'property_age', \n",
        "       'int_sqft', 'dist_mainroad', 'n_bedroom','n_bathroom', 'n_room', \n",
        "       'qs_rooms', 'qs_bathroom', 'qs_bedroom', 'qs_overall', \n",
        "       'reg_fee', 'commis', 'sales_price', 'total_price'])\n",
        "\n",
        "ds.head(3)"
      ],
      "metadata": {
        "id": "3EpL-8YdiVjI"
      },
      "execution_count": null,
      "outputs": []
    },
    {
      "cell_type": "code",
      "source": [
        "#Dropping the prt_id column because it is a unique value\n",
        "ds.drop('prt_id', axis=1, inplace=True)"
      ],
      "metadata": {
        "id": "EludvXTFizwG"
      },
      "execution_count": null,
      "outputs": []
    },
    {
      "cell_type": "markdown",
      "source": [
        "Checking if there is a linear relationship between area and target column"
      ],
      "metadata": {
        "id": "AFsmGNDVTX6Y"
      }
    },
    {
      "cell_type": "code",
      "source": [
        "ds_sorted = ds.groupby('area')['sales_price'].mean().reset_index().sort_values('sales_price')['area']\n",
        "sns.barplot(x='area',y='sales_price',data = ds,order = ds_sorted)\n",
        "plt.xticks(rotation=45)"
      ],
      "metadata": {
        "id": "OluDgcLoGA1c",
        "colab": {
          "base_uri": "https://localhost:8080/",
          "height": 309
        },
        "outputId": "e598c5ea-29bc-4427-9552-e895b69ce544"
      },
      "execution_count": null,
      "outputs": [
        {
          "output_type": "execute_result",
          "data": {
            "text/plain": [
              "(array([0, 1, 2, 3, 4, 5, 6]), <a list of 7 Text major ticklabel objects>)"
            ]
          },
          "metadata": {},
          "execution_count": 7
        },
        {
          "output_type": "display_data",
          "data": {
            "text/plain": [
              "<Figure size 432x288 with 1 Axes>"
            ],
            "image/png": "[encoded data removed]"
          },
          "metadata": {
            "needs_background": "light"
          }
        }
      ]
    },
    {
      "cell_type": "code",
      "source": [
        "#since the relationship \n",
        "from sklearn import preprocessing\n",
        "  \n",
        "\n",
        "label_encoder = preprocessing.LabelEncoder()\n",
        "  \n",
        "\n",
        "ds['area']= label_encoder.fit_transform(ds['area'])\n",
        "  \n",
        "ds['area'].unique()"
      ],
      "metadata": {
        "colab": {
          "base_uri": "https://localhost:8080/"
        },
        "id": "FdKIzVBWTdSk",
        "outputId": "1e3c6db4-4cd3-4fb6-a5a8-22b05c963508"
      },
      "execution_count": null,
      "outputs": [
        {
          "output_type": "execute_result",
          "data": {
            "text/plain": [
              "array([3, 1, 0, 6, 2, 4, 5])"
            ]
          },
          "metadata": {},
          "execution_count": 6
        }
      ]
    },
    {
      "cell_type": "code",
      "source": [
        "ds_sorted = ds.groupby('sale_cond')['sales_price'].mean().reset_index().sort_values('sales_price')['sale_cond']\n",
        "sns.barplot(x='sale_cond',y='sales_price',data = ds,order = ds_sorted)\n",
        "plt.xticks(rotation=45)"
      ],
      "metadata": {
        "colab": {
          "base_uri": "https://localhost:8080/",
          "height": 347
        },
        "id": "iMepjcjVThQ5",
        "outputId": "c71258ea-0a26-457d-f212-9661dc71e38d"
      },
      "execution_count": null,
      "outputs": [
        {
          "output_type": "execute_result",
          "data": {
            "text/plain": [
              "(array([0, 1, 2, 3, 4]), <a list of 5 Text major ticklabel objects>)"
            ]
          },
          "metadata": {},
          "execution_count": 8
        },
        {
          "output_type": "display_data",
          "data": {
            "text/plain": [
              "<Figure size 432x288 with 1 Axes>"
            ],
            "image/png": "[encoded data removed]"
          },
          "metadata": {
            "needs_background": "light"
          }
        }
      ]
    },
    {
      "cell_type": "markdown",
      "source": [
        "No relation with target variable.So we will be dropping the feature"
      ],
      "metadata": {
        "id": "aRQbcArOTnWJ"
      }
    },
    {
      "cell_type": "code",
      "source": [
        "ds.drop('sale_cond', axis=1, inplace=True)"
      ],
      "metadata": {
        "id": "AIcHmdDST3It"
      },
      "execution_count": null,
      "outputs": []
    },
    {
      "cell_type": "code",
      "source": [
        "ds.head()"
      ],
      "metadata": {
        "colab": {
          "base_uri": "https://localhost:8080/",
          "height": 386
        },
        "id": "mmVtkdFKT_G0",
        "outputId": "b2b122c7-bad6-4528-f1d1-a4be15696bf9"
      },
      "execution_count": null,
      "outputs": [
        {
          "output_type": "execute_result",
          "data": {
            "text/plain": [
              "   area park_facil   buildtype utility_avail  street mzzone date_build  \\\n",
              "0     3        yes  commercial        allpub   paved      a 1967-05-15   \n",
              "1     1         no  commercial        allpub  gravel     rh 1995-12-22   \n",
              "2     0        yes  commercial           elo  gravel     rl 1992-02-09   \n",
              "3     6         no       other       nosewr    paved      i 1988-03-18   \n",
              "4     3        yes       other        allpub  gravel      c 1979-10-13   \n",
              "\n",
              "   date_sale  property_age  int_sqft  ...  n_bathroom  n_room  qs_rooms  \\\n",
              "0 2011-05-04            44      1004  ...           1       3       4.0   \n",
              "1 2006-12-19            11      1986  ...           1       5       4.9   \n",
              "2 2012-02-04            20       909  ...           1       3       4.1   \n",
              "3 2010-03-13            22      1855  ...           2       5       4.7   \n",
              "4 2009-10-05            30      1226  ...           1       3       3.0   \n",
              "\n",
              "   qs_bathroom  qs_bedroom  qs_overall  reg_fee  commis  sales_price  \\\n",
              "0          3.9         4.9       4.330   380000  144400      7600000   \n",
              "1          4.2         2.5       3.765   760122  304049     21717770   \n",
              "2          3.8         2.2       3.090   421094   92114     13159200   \n",
              "3          3.9         3.6       4.010   356321   77042      9630290   \n",
              "4          2.5         4.1       3.290   237000   74063      7406250   \n",
              "\n",
              "   total_price  \n",
              "0      8124400  \n",
              "1     22781941  \n",
              "2     13672408  \n",
              "3     10063653  \n",
              "4      7717313  \n",
              "\n",
              "[5 rows x 22 columns]"
            ],
            "text/html": [
              "\n",
              "  <div id=\"df-dd6f8163-916d-41c2-9b3a-85736d4fcee4\">\n",
              "    <div class=\"colab-df-container\">\n",
              "      <div>\n",
              "<style scoped>\n",
              "    .dataframe tbody tr th:only-of-type {\n",
              "        vertical-align: middle;\n",
              "    }\n",
              "\n",
              "    .dataframe tbody tr th {\n",
              "        vertical-align: top;\n",
              "    }\n",
              "\n",
              "    .dataframe thead th {\n",
              "        text-align: right;\n",
              "    }\n",
              "</style>\n",
              "<table border=\"1\" class=\"dataframe\">\n",
              "  <thead>\n",
              "    <tr style=\"text-align: right;\">\n",
              "      <th></th>\n",
              "      <th>area</th>\n",
              "      <th>park_facil</th>\n",
              "      <th>buildtype</th>\n",
              "      <th>utility_avail</th>\n",
              "      <th>street</th>\n",
              "      <th>mzzone</th>\n",
              "      <th>date_build</th>\n",
              "      <th>date_sale</th>\n",
              "      <th>property_age</th>\n",
              "      <th>int_sqft</th>\n",
              "      <th>...</th>\n",
              "      <th>n_bathroom</th>\n",
              "      <th>n_room</th>\n",
              "      <th>qs_rooms</th>\n",
              "      <th>qs_bathroom</th>\n",
              "      <th>qs_bedroom</th>\n",
              "      <th>qs_overall</th>\n",
              "      <th>reg_fee</th>\n",
              "      <th>commis</th>\n",
              "      <th>sales_price</th>\n",
              "      <th>total_price</th>\n",
              "    </tr>\n",
              "  </thead>\n",
              "  <tbody>\n",
              "    <tr>\n",
              "      <th>0</th>\n",
              "      <td>3</td>\n",
              "      <td>yes</td>\n",
              "      <td>commercial</td>\n",
              "      <td>allpub</td>\n",
              "      <td>paved</td>\n",
              "      <td>a</td>\n",
              "      <td>1967-05-15</td>\n",
              "      <td>2011-05-04</td>\n",
              "      <td>44</td>\n",
              "      <td>1004</td>\n",
              "      <td>...</td>\n",
              "      <td>1</td>\n",
              "      <td>3</td>\n",
              "      <td>4.0</td>\n",
              "      <td>3.9</td>\n",
              "      <td>4.9</td>\n",
              "      <td>4.330</td>\n",
              "      <td>380000</td>\n",
              "      <td>144400</td>\n",
              "      <td>7600000</td>\n",
              "      <td>8124400</td>\n",
              "    </tr>\n",
              "    <tr>\n",
              "      <th>1</th>\n",
              "      <td>1</td>\n",
              "      <td>no</td>\n",
              "      <td>commercial</td>\n",
              "      <td>allpub</td>\n",
              "      <td>gravel</td>\n",
              "      <td>rh</td>\n",
              "      <td>1995-12-22</td>\n",
              "      <td>2006-12-19</td>\n",
              "      <td>11</td>\n",
              "      <td>1986</td>\n",
              "      <td>...</td>\n",
              "      <td>1</td>\n",
              "      <td>5</td>\n",
              "      <td>4.9</td>\n",
              "      <td>4.2</td>\n",
              "      <td>2.5</td>\n",
              "      <td>3.765</td>\n",
              "      <td>760122</td>\n",
              "      <td>304049</td>\n",
              "      <td>21717770</td>\n",
              "      <td>22781941</td>\n",
              "    </tr>\n",
              "    <tr>\n",
              "      <th>2</th>\n",
              "      <td>0</td>\n",
              "      <td>yes</td>\n",
              "      <td>commercial</td>\n",
              "      <td>elo</td>\n",
              "      <td>gravel</td>\n",
              "      <td>rl</td>\n",
              "      <td>1992-02-09</td>\n",
              "      <td>2012-02-04</td>\n",
              "      <td>20</td>\n",
              "      <td>909</td>\n",
              "      <td>...</td>\n",
              "      <td>1</td>\n",
              "      <td>3</td>\n",
              "      <td>4.1</td>\n",
              "      <td>3.8</td>\n",
              "      <td>2.2</td>\n",
              "      <td>3.090</td>\n",
              "      <td>421094</td>\n",
              "      <td>92114</td>\n",
              "      <td>13159200</td>\n",
              "      <td>13672408</td>\n",
              "    </tr>\n",
              "    <tr>\n",
              "      <th>3</th>\n",
              "      <td>6</td>\n",
              "      <td>no</td>\n",
              "      <td>other</td>\n",
              "      <td>nosewr</td>\n",
              "      <td>paved</td>\n",
              "      <td>i</td>\n",
              "      <td>1988-03-18</td>\n",
              "      <td>2010-03-13</td>\n",
              "      <td>22</td>\n",
              "      <td>1855</td>\n",
              "      <td>...</td>\n",
              "      <td>2</td>\n",
              "      <td>5</td>\n",
              "      <td>4.7</td>\n",
              "      <td>3.9</td>\n",
              "      <td>3.6</td>\n",
              "      <td>4.010</td>\n",
              "      <td>356321</td>\n",
              "      <td>77042</td>\n",
              "      <td>9630290</td>\n",
              "      <td>10063653</td>\n",
              "    </tr>\n",
              "    <tr>\n",
              "      <th>4</th>\n",
              "      <td>3</td>\n",
              "      <td>yes</td>\n",
              "      <td>other</td>\n",
              "      <td>allpub</td>\n",
              "      <td>gravel</td>\n",
              "      <td>c</td>\n",
              "      <td>1979-10-13</td>\n",
              "      <td>2009-10-05</td>\n",
              "      <td>30</td>\n",
              "      <td>1226</td>\n",
              "      <td>...</td>\n",
              "      <td>1</td>\n",
              "      <td>3</td>\n",
              "      <td>3.0</td>\n",
              "      <td>2.5</td>\n",
              "      <td>4.1</td>\n",
              "      <td>3.290</td>\n",
              "      <td>237000</td>\n",
              "      <td>74063</td>\n",
              "      <td>7406250</td>\n",
              "      <td>7717313</td>\n",
              "    </tr>\n",
              "  </tbody>\n",
              "</table>\n",
              "<p>5 rows × 22 columns</p>\n",
              "</div>\n",
              "      <button class=\"colab-df-convert\" onclick=\"convertToInteractive('df-dd6f8163-916d-41c2-9b3a-85736d4fcee4')\"\n",
              "              title=\"Convert this dataframe to an interactive table.\"\n",
              "              style=\"display:none;\">\n",
              "        \n",
              "  <svg xmlns=\"http://www.w3.org/2000/svg\" height=\"24px\"viewBox=\"0 0 24 24\"\n",
              "       width=\"24px\">\n",
              "    <path d=\"M0 0h24v24H0V0z\" fill=\"none\"/>\n",
              "    <path d=\"M18.56 5.44l.94 2.06.94-2.06 2.06-.94-2.06-.94-.94-2.06-.94 2.06-2.06.94zm-11 1L8.5 8.5l.94-2.06 2.06-.94-2.06-.94L8.5 2.5l-.94 2.06-2.06.94zm10 10l.94 2.06.94-2.06 2.06-.94-2.06-.94-.94-2.06-.94 2.06-2.06.94z\"/><path d=\"M17.41 7.96l-1.37-1.37c-.4-.4-.92-.59-1.43-.59-.52 0-1.04.2-1.43.59L10.3 9.45l-7.72 7.72c-.78.78-.78 2.05 0 2.83L4 21.41c.39.39.9.59 1.41.59.51 0 1.02-.2 1.41-.59l7.78-7.78 2.81-2.81c.8-.78.8-2.07 0-2.86zM5.41 20L4 18.59l7.72-7.72 1.47 1.35L5.41 20z\"/>\n",
              "  </svg>\n",
              "      </button>\n",
              "      \n",
              "  <style>\n",
              "    .colab-df-container {\n",
              "      display:flex;\n",
              "      flex-wrap:wrap;\n",
              "      gap: 12px;\n",
              "    }\n",
              "\n",
              "    .colab-df-convert {\n",
              "      background-color: #E8F0FE;\n",
              "      border: none;\n",
              "      border-radius: 50%;\n",
              "      cursor: pointer;\n",
              "      display: none;\n",
              "      fill: #1967D2;\n",
              "      height: 32px;\n",
              "      padding: 0 0 0 0;\n",
              "      width: 32px;\n",
              "    }\n",
              "\n",
              "    .colab-df-convert:hover {\n",
              "      background-color: #E2EBFA;\n",
              "      box-shadow: 0px 1px 2px rgba(60, 64, 67, 0.3), 0px 1px 3px 1px rgba(60, 64, 67, 0.15);\n",
              "      fill: #174EA6;\n",
              "    }\n",
              "\n",
              "    [theme=dark] .colab-df-convert {\n",
              "      background-color: #3B4455;\n",
              "      fill: #D2E3FC;\n",
              "    }\n",
              "\n",
              "    [theme=dark] .colab-df-convert:hover {\n",
              "      background-color: #434B5C;\n",
              "      box-shadow: 0px 1px 3px 1px rgba(0, 0, 0, 0.15);\n",
              "      filter: drop-shadow(0px 1px 2px rgba(0, 0, 0, 0.3));\n",
              "      fill: #FFFFFF;\n",
              "    }\n",
              "  </style>\n",
              "\n",
              "      <script>\n",
              "        const buttonEl =\n",
              "          document.querySelector('#df-dd6f8163-916d-41c2-9b3a-85736d4fcee4 button.colab-df-convert');\n",
              "        buttonEl.style.display =\n",
              "          google.colab.kernel.accessAllowed ? 'block' : 'none';\n",
              "\n",
              "        async function convertToInteractive(key) {\n",
              "          const element = document.querySelector('#df-dd6f8163-916d-41c2-9b3a-85736d4fcee4');\n",
              "          const dataTable =\n",
              "            await google.colab.kernel.invokeFunction('convertToInteractive',\n",
              "                                                     [key], {});\n",
              "          if (!dataTable) return;\n",
              "\n",
              "          const docLinkHtml = 'Like what you see? Visit the ' +\n",
              "            '<a target=\"_blank\" href=https://colab.research.google.com/notebooks/data_table.ipynb>data table notebook</a>'\n",
              "            + ' to learn more about interactive tables.';\n",
              "          element.innerHTML = '';\n",
              "          dataTable['output_type'] = 'display_data';\n",
              "          await google.colab.output.renderOutput(dataTable, element);\n",
              "          const docLink = document.createElement('div');\n",
              "          docLink.innerHTML = docLinkHtml;\n",
              "          element.appendChild(docLink);\n",
              "        }\n",
              "      </script>\n",
              "    </div>\n",
              "  </div>\n",
              "  "
            ]
          },
          "metadata": {},
          "execution_count": 10
        }
      ]
    },
    {
      "cell_type": "code",
      "source": [
        "ds_sorted = ds.groupby('int_sqft')['sales_price'].mean().reset_index().sort_values('sales_price')['int_sqft']\n",
        "sns.barplot(x='int_sqft',y='sales_price',data = ds,order = ds_sorted)\n",
        "plt.xticks(rotation=45)"
      ],
      "metadata": {
        "colab": {
          "base_uri": "https://localhost:8080/",
          "height": 341
        },
        "id": "d2qyDrWYUEO9",
        "outputId": "03adfbb9-ad01-4525-9d62-0b70d4d52625"
      },
      "execution_count": null,
      "outputs": [
        {
          "output_type": "execute_result",
          "data": {
            "text/plain": [
              "(array([   0,    1,    2, ..., 1695, 1696, 1697]),\n",
              " <a list of 1698 Text major ticklabel objects>)"
            ]
          },
          "metadata": {},
          "execution_count": 8
        },
        {
          "output_type": "display_data",
          "data": {
            "text/plain": [
              "<Figure size 432x288 with 1 Axes>"
            ],
            "image/png": "[encoded data removed]"
          },
          "metadata": {
            "needs_background": "light"
          }
        }
      ]
    },
    {
      "cell_type": "code",
      "source": [
        "ds_sorted = ds.groupby('dist_mainroad')['sales_price'].mean().reset_index().sort_values('sales_price')['dist_mainroad']\n",
        "sns.barplot(x='dist_mainroad',y='sales_price',data = ds,order = ds_sorted)\n",
        "plt.xticks(rotation=90)"
      ],
      "metadata": {
        "colab": {
          "base_uri": "https://localhost:8080/",
          "height": 595
        },
        "id": "n4calQYkNKgm",
        "outputId": "752371b1-416b-4c4a-eec2-406e3fe2b8a3"
      },
      "execution_count": null,
      "outputs": [
        {
          "output_type": "execute_result",
          "data": {
            "text/plain": [
              "(array([  0,   1,   2,   3,   4,   5,   6,   7,   8,   9,  10,  11,  12,\n",
              "         13,  14,  15,  16,  17,  18,  19,  20,  21,  22,  23,  24,  25,\n",
              "         26,  27,  28,  29,  30,  31,  32,  33,  34,  35,  36,  37,  38,\n",
              "         39,  40,  41,  42,  43,  44,  45,  46,  47,  48,  49,  50,  51,\n",
              "         52,  53,  54,  55,  56,  57,  58,  59,  60,  61,  62,  63,  64,\n",
              "         65,  66,  67,  68,  69,  70,  71,  72,  73,  74,  75,  76,  77,\n",
              "         78,  79,  80,  81,  82,  83,  84,  85,  86,  87,  88,  89,  90,\n",
              "         91,  92,  93,  94,  95,  96,  97,  98,  99, 100, 101, 102, 103,\n",
              "        104, 105, 106, 107, 108, 109, 110, 111, 112, 113, 114, 115, 116,\n",
              "        117, 118, 119, 120, 121, 122, 123, 124, 125, 126, 127, 128, 129,\n",
              "        130, 131, 132, 133, 134, 135, 136, 137, 138, 139, 140, 141, 142,\n",
              "        143, 144, 145, 146, 147, 148, 149, 150, 151, 152, 153, 154, 155,\n",
              "        156, 157, 158, 159, 160, 161, 162, 163, 164, 165, 166, 167, 168,\n",
              "        169, 170, 171, 172, 173, 174, 175, 176, 177, 178, 179, 180, 181,\n",
              "        182, 183, 184, 185, 186, 187, 188, 189, 190, 191, 192, 193, 194,\n",
              "        195, 196, 197, 198, 199, 200]),\n",
              " <a list of 201 Text major ticklabel objects>)"
            ]
          },
          "metadata": {},
          "execution_count": 11
        },
        {
          "output_type": "display_data",
          "data": {
            "text/plain": [
              "<Figure size 432x288 with 1 Axes>"
            ],
            "image/png": "[encoded data removed]"
          },
          "metadata": {
            "needs_background": "light"
          }
        }
      ]
    },
    {
      "cell_type": "code",
      "source": [
        "ds.drop('dist_mainroad', axis=1, inplace=True)"
      ],
      "metadata": {
        "id": "cD26d1eNPkVB"
      },
      "execution_count": null,
      "outputs": []
    },
    {
      "cell_type": "code",
      "source": [
        "ds_sorted = ds.groupby('park_facil')['sales_price'].mean().reset_index().sort_values('sales_price')['park_facil']\n",
        "sns.barplot(x='park_facil',y='sales_price',data = ds,order = ds_sorted)\n",
        "plt.xticks(rotation=90)"
      ],
      "metadata": {
        "colab": {
          "base_uri": "https://localhost:8080/",
          "height": 315
        },
        "id": "QV1W4XJ0Puny",
        "outputId": "83558623-acd3-4ebd-9759-5cc7dc888647"
      },
      "execution_count": null,
      "outputs": [
        {
          "output_type": "execute_result",
          "data": {
            "text/plain": [
              "(array([0, 1]), <a list of 2 Text major ticklabel objects>)"
            ]
          },
          "metadata": {},
          "execution_count": 13
        },
        {
          "output_type": "display_data",
          "data": {
            "text/plain": [
              "<Figure size 432x288 with 1 Axes>"
            ],
            "image/png": "[encoded data removed]"
          },
          "metadata": {
            "needs_background": "light"
          }
        }
      ]
    },
    {
      "cell_type": "code",
      "source": [
        "label_encoder = preprocessing.LabelEncoder()\n",
        "  \n",
        "\n",
        "ds['park_facil']= label_encoder.fit_transform(ds['park_facil'])\n",
        "  \n",
        "ds['park_facil'].unique()"
      ],
      "metadata": {
        "colab": {
          "base_uri": "https://localhost:8080/"
        },
        "id": "bW-wVzp-Pya7",
        "outputId": "57080735-6062-455a-ec99-976bb1ca018a"
      },
      "execution_count": null,
      "outputs": [
        {
          "output_type": "execute_result",
          "data": {
            "text/plain": [
              "array([1, 0])"
            ]
          },
          "metadata": {},
          "execution_count": 14
        }
      ]
    },
    {
      "cell_type": "code",
      "source": [
        "ds_sorted = ds.groupby('n_bedroom')['sales_price'].mean().reset_index().sort_values('sales_price')['n_bedroom']\n",
        "sns.barplot(x='n_bedroom',y='sales_price',data = ds,order = ds_sorted)\n",
        "plt.xticks(rotation=45)"
      ],
      "metadata": {
        "colab": {
          "base_uri": "https://localhost:8080/",
          "height": 310
        },
        "id": "7CvtbotPTttg",
        "outputId": "23bb78fc-2ca7-4bae-a311-b6996bd7cbaa"
      },
      "execution_count": null,
      "outputs": [
        {
          "output_type": "execute_result",
          "data": {
            "text/plain": [
              "(array([0, 1, 2, 3]), <a list of 4 Text major ticklabel objects>)"
            ]
          },
          "metadata": {},
          "execution_count": 15
        },
        {
          "output_type": "display_data",
          "data": {
            "text/plain": [
              "<Figure size 432x288 with 1 Axes>"
            ],
            "image/png": "[encoded data removed]"
          },
          "metadata": {
            "needs_background": "light"
          }
        }
      ]
    },
    {
      "cell_type": "markdown",
      "source": [
        "Linear relationship\n",
        "\n"
      ],
      "metadata": {
        "id": "NGVwHyjGT1Ow"
      }
    },
    {
      "cell_type": "code",
      "source": [
        "ds_sorted = ds.groupby('n_bathroom')['sales_price'].mean().reset_index().sort_values('sales_price')['n_bathroom']\n",
        "sns.barplot(x='n_bathroom',y='sales_price',data = ds,order = ds_sorted)\n",
        "plt.xticks(rotation=45)"
      ],
      "metadata": {
        "colab": {
          "base_uri": "https://localhost:8080/",
          "height": 310
        },
        "id": "ElaU_9HST2V5",
        "outputId": "525bad3d-04fe-425d-baa5-c3d462d00f06"
      },
      "execution_count": null,
      "outputs": [
        {
          "output_type": "execute_result",
          "data": {
            "text/plain": [
              "(array([0, 1]), <a list of 2 Text major ticklabel objects>)"
            ]
          },
          "metadata": {},
          "execution_count": 16
        },
        {
          "output_type": "display_data",
          "data": {
            "text/plain": [
              "<Figure size 432x288 with 1 Axes>"
            ],
            "image/png": "[encoded data removed]"
          },
          "metadata": {
            "needs_background": "light"
          }
        }
      ]
    },
    {
      "cell_type": "code",
      "source": [
        "ds_sorted = ds.groupby('n_room')['sales_price'].mean().reset_index().sort_values('sales_price')['n_room']\n",
        "sns.barplot(x='n_room',y='sales_price',data = ds,order = ds_sorted)\n",
        "plt.xticks(rotation=45)"
      ],
      "metadata": {
        "colab": {
          "base_uri": "https://localhost:8080/",
          "height": 309
        },
        "id": "MfhbPtqkUgI4",
        "outputId": "588d4a37-8ecc-4c79-d5be-b98d1752a5c8"
      },
      "execution_count": null,
      "outputs": [
        {
          "output_type": "execute_result",
          "data": {
            "text/plain": [
              "(array([0, 1, 2, 3, 4]), <a list of 5 Text major ticklabel objects>)"
            ]
          },
          "metadata": {},
          "execution_count": 17
        },
        {
          "output_type": "display_data",
          "data": {
            "text/plain": [
              "<Figure size 432x288 with 1 Axes>"
            ],
            "image/png": "[encoded data removed]"
          },
          "metadata": {
            "needs_background": "light"
          }
        }
      ]
    },
    {
      "cell_type": "code",
      "source": [
        "ds_sorted = ds.groupby('qs_rooms')['sales_price'].mean().reset_index().sort_values('sales_price')['qs_rooms']\n",
        "sns.barplot(x='qs_rooms',y='sales_price',data = ds,order = ds_sorted)\n",
        "plt.xticks(rotation=45)"
      ],
      "metadata": {
        "colab": {
          "base_uri": "https://localhost:8080/",
          "height": 351
        },
        "id": "1BUYZMcxUr2P",
        "outputId": "e5498b7c-fc4f-4392-e9c1-284063723a0e"
      },
      "execution_count": null,
      "outputs": [
        {
          "output_type": "execute_result",
          "data": {
            "text/plain": [
              "(array([ 0,  1,  2,  3,  4,  5,  6,  7,  8,  9, 10, 11, 12, 13, 14, 15, 16,\n",
              "        17, 18, 19, 20, 21, 22, 23, 24, 25, 26, 27, 28, 29, 30]),\n",
              " <a list of 31 Text major ticklabel objects>)"
            ]
          },
          "metadata": {},
          "execution_count": 18
        },
        {
          "output_type": "display_data",
          "data": {
            "text/plain": [
              "<Figure size 432x288 with 1 Axes>"
            ],
            "image/png": "[encoded data removed]"
          },
          "metadata": {
            "needs_background": "light"
          }
        }
      ]
    },
    {
      "cell_type": "markdown",
      "source": [
        "Drop qs rooms because there is no linear relationship with the target variable"
      ],
      "metadata": {
        "id": "tXEA4sZnT0cs"
      }
    },
    {
      "cell_type": "code",
      "source": [
        "ds.drop('qs_rooms', axis=1, inplace=True)"
      ],
      "metadata": {
        "id": "u9BHOSm6U7n7"
      },
      "execution_count": null,
      "outputs": []
    },
    {
      "cell_type": "code",
      "source": [
        "ds_sorted = ds.groupby('qs_bathroom')['sales_price'].mean().reset_index().sort_values('sales_price')['qs_bathroom']\n",
        "sns.barplot(x='qs_bathroom',y='sales_price',data = ds,order = ds_sorted)\n",
        "plt.xticks(rotation=45)"
      ],
      "metadata": {
        "colab": {
          "base_uri": "https://localhost:8080/",
          "height": 352
        },
        "id": "Hm3uOiw2VARt",
        "outputId": "ccfc6459-479e-4de7-f8b8-aaf2b978b3ef"
      },
      "execution_count": null,
      "outputs": [
        {
          "output_type": "execute_result",
          "data": {
            "text/plain": [
              "(array([ 0,  1,  2,  3,  4,  5,  6,  7,  8,  9, 10, 11, 12, 13, 14, 15, 16,\n",
              "        17, 18, 19, 20, 21, 22, 23, 24, 25, 26, 27, 28, 29, 30]),\n",
              " <a list of 31 Text major ticklabel objects>)"
            ]
          },
          "metadata": {},
          "execution_count": 21
        },
        {
          "output_type": "display_data",
          "data": {
            "text/plain": [
              "<Figure size 432x288 with 1 Axes>"
            ],
            "image/png": "[encoded data removed]"
          },
          "metadata": {
            "needs_background": "light"
          }
        }
      ]
    },
    {
      "cell_type": "code",
      "source": [
        "ds.drop('qs_bathroom', axis=1, inplace=True)"
      ],
      "metadata": {
        "id": "mU5kkb17VRpz"
      },
      "execution_count": null,
      "outputs": []
    },
    {
      "cell_type": "code",
      "source": [
        "ds_sorted = ds.groupby('qs_bedroom')['sales_price'].mean().reset_index().sort_values('sales_price')['qs_bedroom']\n",
        "sns.barplot(x='qs_bedroom',y='sales_price',data = ds,order = ds_sorted)\n",
        "plt.xticks(rotation=45)"
      ],
      "metadata": {
        "colab": {
          "base_uri": "https://localhost:8080/",
          "height": 352
        },
        "id": "KHRjO30WVUn2",
        "outputId": "af678c9b-dfc3-42a8-bdbe-fef5e7d405e3"
      },
      "execution_count": null,
      "outputs": [
        {
          "output_type": "execute_result",
          "data": {
            "text/plain": [
              "(array([ 0,  1,  2,  3,  4,  5,  6,  7,  8,  9, 10, 11, 12, 13, 14, 15, 16,\n",
              "        17, 18, 19, 20, 21, 22, 23, 24, 25, 26, 27, 28, 29, 30]),\n",
              " <a list of 31 Text major ticklabel objects>)"
            ]
          },
          "metadata": {},
          "execution_count": 23
        },
        {
          "output_type": "display_data",
          "data": {
            "text/plain": [
              "<Figure size 432x288 with 1 Axes>"
            ],
            "image/png": "[encoded data removed]"
          },
          "metadata": {
            "needs_background": "light"
          }
        }
      ]
    },
    {
      "cell_type": "code",
      "source": [
        "ds.drop('qs_bedroom', axis=1, inplace=True)"
      ],
      "metadata": {
        "id": "yBfqOi6PVZDR"
      },
      "execution_count": null,
      "outputs": []
    },
    {
      "cell_type": "code",
      "source": [
        "d_sorted = ds.groupby('qs_overall')['sales_price'].mean().reset_index().sort_values('sales_price')['qs_overall']\n",
        "sns.barplot(x='qs_overall',y='sales_price',data = ds,order = ds_sorted)\n",
        "plt.xticks(rotation=45)"
      ],
      "metadata": {
        "colab": {
          "base_uri": "https://localhost:8080/",
          "height": 352
        },
        "id": "g-6Oo4FnVgBh",
        "outputId": "64f03e74-cc93-4cee-a8ae-a5f5d1e2def4"
      },
      "execution_count": null,
      "outputs": [
        {
          "output_type": "execute_result",
          "data": {
            "text/plain": [
              "(array([ 0,  1,  2,  3,  4,  5,  6,  7,  8,  9, 10, 11, 12, 13, 14, 15, 16,\n",
              "        17, 18, 19, 20, 21, 22, 23, 24, 25, 26, 27, 28, 29, 30]),\n",
              " <a list of 31 Text major ticklabel objects>)"
            ]
          },
          "metadata": {},
          "execution_count": 25
        },
        {
          "output_type": "display_data",
          "data": {
            "text/plain": [
              "<Figure size 432x288 with 1 Axes>"
            ],
            "image/png": "[encoded data removed]"
          },
          "metadata": {
            "needs_background": "light"
          }
        }
      ]
    },
    {
      "cell_type": "code",
      "source": [
        "ds.drop('total_price', axis=1, inplace=True)"
      ],
      "metadata": {
        "id": "m30JxEc9VmyR"
      },
      "execution_count": null,
      "outputs": []
    },
    {
      "cell_type": "code",
      "source": [
        "ds.drop('reg_fee', axis=1, inplace=True)\n",
        "ds.drop('commis', axis=1, inplace=True)"
      ],
      "metadata": {
        "id": "ZjZS5aG5VpW6"
      },
      "execution_count": null,
      "outputs": []
    },
    {
      "cell_type": "code",
      "source": [
        "ds_sorted = ds.groupby('mzzone')['sales_price'].mean().reset_index().sort_values('sales_price')['mzzone']\n",
        "sns.barplot(x='mzzone',y='sales_price',data = ds,order = ds_sorted)\n",
        "plt.xticks(rotation=45)"
      ],
      "metadata": {
        "colab": {
          "base_uri": "https://localhost:8080/",
          "height": 314
        },
        "id": "4BiaD3xbVs_1",
        "outputId": "a590e5ad-7d4b-4ce6-8410-c57590d3f5ba"
      },
      "execution_count": null,
      "outputs": [
        {
          "output_type": "execute_result",
          "data": {
            "text/plain": [
              "(array([0, 1, 2, 3, 4, 5]), <a list of 6 Text major ticklabel objects>)"
            ]
          },
          "metadata": {},
          "execution_count": 28
        },
        {
          "output_type": "display_data",
          "data": {
            "text/plain": [
              "<Figure size 432x288 with 1 Axes>"
            ],
            "image/png": "[encoded data removed]"
          },
          "metadata": {
            "needs_background": "light"
          }
        }
      ]
    },
    {
      "cell_type": "code",
      "source": [
        "ds.info()"
      ],
      "metadata": {
        "colab": {
          "base_uri": "https://localhost:8080/"
        },
        "id": "MMJQHXTrVw4u",
        "outputId": "8726e327-d573-4e35-f63d-59394a03998b"
      },
      "execution_count": null,
      "outputs": [
        {
          "output_type": "stream",
          "name": "stdout",
          "text": [
            "<class 'pandas.core.frame.DataFrame'>\n",
            "Int64Index: 7056 entries, 0 to 7108\n",
            "Data columns (total 15 columns):\n",
            " #   Column         Non-Null Count  Dtype         \n",
            "---  ------         --------------  -----         \n",
            " 0   area           7056 non-null   int64         \n",
            " 1   park_facil     7056 non-null   int64         \n",
            " 2   buildtype      7056 non-null   object        \n",
            " 3   utility_avail  7056 non-null   object        \n",
            " 4   street         7056 non-null   object        \n",
            " 5   mzzone         7056 non-null   object        \n",
            " 6   date_build     7056 non-null   datetime64[ns]\n",
            " 7   date_sale      7056 non-null   datetime64[ns]\n",
            " 8   property_age   7056 non-null   int64         \n",
            " 9   int_sqft       7056 non-null   int64         \n",
            " 10  n_bedroom      7056 non-null   int64         \n",
            " 11  n_bathroom     7056 non-null   int64         \n",
            " 12  n_room         7056 non-null   int64         \n",
            " 13  qs_overall     7056 non-null   float64       \n",
            " 14  sales_price    7056 non-null   int64         \n",
            "dtypes: datetime64[ns](2), float64(1), int64(8), object(4)\n",
            "memory usage: 1.1+ MB\n"
          ]
        }
      ]
    },
    {
      "cell_type": "code",
      "source": [
        "ds.area.unique()"
      ],
      "metadata": {
        "colab": {
          "base_uri": "https://localhost:8080/"
        },
        "id": "iIYoi_wFVzz9",
        "outputId": "1bdf84ed-ae27-46a7-e1bc-1ffb39f2e47b"
      },
      "execution_count": null,
      "outputs": [
        {
          "output_type": "execute_result",
          "data": {
            "text/plain": [
              "array([3, 1, 0, 6, 2, 4, 5])"
            ]
          },
          "metadata": {},
          "execution_count": 30
        }
      ]
    },
    {
      "cell_type": "code",
      "source": [
        "ds.describe().T"
      ],
      "metadata": {
        "colab": {
          "base_uri": "https://localhost:8080/",
          "height": 332
        },
        "id": "lhLR4-J5X5zJ",
        "outputId": "d50e25c0-0541-49f5-bb90-ba7818680ff9"
      },
      "execution_count": null,
      "outputs": [
        {
          "output_type": "execute_result",
          "data": {
            "text/plain": [
              "               count          mean           std        min         25%  \\\n",
              "area          7056.0  2.908305e+00  1.821428e+00        0.0        2.00   \n",
              "park_facil    7056.0  5.041100e-01  5.000185e-01        0.0        0.00   \n",
              "property_age  7056.0  2.427353e+01  1.233156e+01        3.0       14.00   \n",
              "int_sqft      7056.0  1.381317e+03  4.578609e+02      500.0      991.00   \n",
              "n_bedroom     7056.0  1.636621e+00  8.036325e-01        1.0        1.00   \n",
              "n_bathroom    7056.0  1.213152e+00  4.095631e-01        1.0        1.00   \n",
              "n_room        7056.0  3.686650e+00  1.020011e+00        2.0        3.00   \n",
              "qs_overall    7056.0  3.503389e+00  5.273126e-01        2.0        3.13   \n",
              "sales_price   7056.0  1.088801e+07  3.769081e+06  2156875.0  8266790.00   \n",
              "\n",
              "                     50%          75%          max  \n",
              "area                 3.0         4.00         6.00  \n",
              "park_facil           1.0         1.00         1.00  \n",
              "property_age        23.0        34.00        55.00  \n",
              "int_sqft          1369.5      1744.00      2500.00  \n",
              "n_bedroom            1.0         2.00         4.00  \n",
              "n_bathroom           1.0         1.00         2.00  \n",
              "n_room               4.0         4.00         6.00  \n",
              "qs_overall           3.5         3.89         4.97  \n",
              "sales_price   10319225.0  12981477.50  23667340.00  "
            ],
            "text/html": [
              "\n",
              "  <div id=\"df-bc6e0335-65bc-470a-b8d8-1d35d69f62d9\">\n",
              "    <div class=\"colab-df-container\">\n",
              "      <div>\n",
              "<style scoped>\n",
              "    .dataframe tbody tr th:only-of-type {\n",
              "        vertical-align: middle;\n",
              "    }\n",
              "\n",
              "    .dataframe tbody tr th {\n",
              "        vertical-align: top;\n",
              "    }\n",
              "\n",
              "    .dataframe thead th {\n",
              "        text-align: right;\n",
              "    }\n",
              "</style>\n",
              "<table border=\"1\" class=\"dataframe\">\n",
              "  <thead>\n",
              "    <tr style=\"text-align: right;\">\n",
              "      <th></th>\n",
              "      <th>count</th>\n",
              "      <th>mean</th>\n",
              "      <th>std</th>\n",
              "      <th>min</th>\n",
              "      <th>25%</th>\n",
              "      <th>50%</th>\n",
              "      <th>75%</th>\n",
              "      <th>max</th>\n",
              "    </tr>\n",
              "  </thead>\n",
              "  <tbody>\n",
              "    <tr>\n",
              "      <th>area</th>\n",
              "      <td>7056.0</td>\n",
              "      <td>2.908305e+00</td>\n",
              "      <td>1.821428e+00</td>\n",
              "      <td>0.0</td>\n",
              "      <td>2.00</td>\n",
              "      <td>3.0</td>\n",
              "      <td>4.00</td>\n",
              "      <td>6.00</td>\n",
              "    </tr>\n",
              "    <tr>\n",
              "      <th>park_facil</th>\n",
              "      <td>7056.0</td>\n",
              "      <td>5.041100e-01</td>\n",
              "      <td>5.000185e-01</td>\n",
              "      <td>0.0</td>\n",
              "      <td>0.00</td>\n",
              "      <td>1.0</td>\n",
              "      <td>1.00</td>\n",
              "      <td>1.00</td>\n",
              "    </tr>\n",
              "    <tr>\n",
              "      <th>property_age</th>\n",
              "      <td>7056.0</td>\n",
              "      <td>2.427353e+01</td>\n",
              "      <td>1.233156e+01</td>\n",
              "      <td>3.0</td>\n",
              "      <td>14.00</td>\n",
              "      <td>23.0</td>\n",
              "      <td>34.00</td>\n",
              "      <td>55.00</td>\n",
              "    </tr>\n",
              "    <tr>\n",
              "      <th>int_sqft</th>\n",
              "      <td>7056.0</td>\n",
              "      <td>1.381317e+03</td>\n",
              "      <td>4.578609e+02</td>\n",
              "      <td>500.0</td>\n",
              "      <td>991.00</td>\n",
              "      <td>1369.5</td>\n",
              "      <td>1744.00</td>\n",
              "      <td>2500.00</td>\n",
              "    </tr>\n",
              "    <tr>\n",
              "      <th>n_bedroom</th>\n",
              "      <td>7056.0</td>\n",
              "      <td>1.636621e+00</td>\n",
              "      <td>8.036325e-01</td>\n",
              "      <td>1.0</td>\n",
              "      <td>1.00</td>\n",
              "      <td>1.0</td>\n",
              "      <td>2.00</td>\n",
              "      <td>4.00</td>\n",
              "    </tr>\n",
              "    <tr>\n",
              "      <th>n_bathroom</th>\n",
              "      <td>7056.0</td>\n",
              "      <td>1.213152e+00</td>\n",
              "      <td>4.095631e-01</td>\n",
              "      <td>1.0</td>\n",
              "      <td>1.00</td>\n",
              "      <td>1.0</td>\n",
              "      <td>1.00</td>\n",
              "      <td>2.00</td>\n",
              "    </tr>\n",
              "    <tr>\n",
              "      <th>n_room</th>\n",
              "      <td>7056.0</td>\n",
              "      <td>3.686650e+00</td>\n",
              "      <td>1.020011e+00</td>\n",
              "      <td>2.0</td>\n",
              "      <td>3.00</td>\n",
              "      <td>4.0</td>\n",
              "      <td>4.00</td>\n",
              "      <td>6.00</td>\n",
              "    </tr>\n",
              "    <tr>\n",
              "      <th>qs_overall</th>\n",
              "      <td>7056.0</td>\n",
              "      <td>3.503389e+00</td>\n",
              "      <td>5.273126e-01</td>\n",
              "      <td>2.0</td>\n",
              "      <td>3.13</td>\n",
              "      <td>3.5</td>\n",
              "      <td>3.89</td>\n",
              "      <td>4.97</td>\n",
              "    </tr>\n",
              "    <tr>\n",
              "      <th>sales_price</th>\n",
              "      <td>7056.0</td>\n",
              "      <td>1.088801e+07</td>\n",
              "      <td>3.769081e+06</td>\n",
              "      <td>2156875.0</td>\n",
              "      <td>8266790.00</td>\n",
              "      <td>10319225.0</td>\n",
              "      <td>12981477.50</td>\n",
              "      <td>23667340.00</td>\n",
              "    </tr>\n",
              "  </tbody>\n",
              "</table>\n",
              "</div>\n",
              "      <button class=\"colab-df-convert\" onclick=\"convertToInteractive('df-bc6e0335-65bc-470a-b8d8-1d35d69f62d9')\"\n",
              "              title=\"Convert this dataframe to an interactive table.\"\n",
              "              style=\"display:none;\">\n",
              "        \n",
              "  <svg xmlns=\"http://www.w3.org/2000/svg\" height=\"24px\"viewBox=\"0 0 24 24\"\n",
              "       width=\"24px\">\n",
              "    <path d=\"M0 0h24v24H0V0z\" fill=\"none\"/>\n",
              "    <path d=\"M18.56 5.44l.94 2.06.94-2.06 2.06-.94-2.06-.94-.94-2.06-.94 2.06-2.06.94zm-11 1L8.5 8.5l.94-2.06 2.06-.94-2.06-.94L8.5 2.5l-.94 2.06-2.06.94zm10 10l.94 2.06.94-2.06 2.06-.94-2.06-.94-.94-2.06-.94 2.06-2.06.94z\"/><path d=\"M17.41 7.96l-1.37-1.37c-.4-.4-.92-.59-1.43-.59-.52 0-1.04.2-1.43.59L10.3 9.45l-7.72 7.72c-.78.78-.78 2.05 0 2.83L4 21.41c.39.39.9.59 1.41.59.51 0 1.02-.2 1.41-.59l7.78-7.78 2.81-2.81c.8-.78.8-2.07 0-2.86zM5.41 20L4 18.59l7.72-7.72 1.47 1.35L5.41 20z\"/>\n",
              "  </svg>\n",
              "      </button>\n",
              "      \n",
              "  <style>\n",
              "    .colab-df-container {\n",
              "      display:flex;\n",
              "      flex-wrap:wrap;\n",
              "      gap: 12px;\n",
              "    }\n",
              "\n",
              "    .colab-df-convert {\n",
              "      background-color: #E8F0FE;\n",
              "      border: none;\n",
              "      border-radius: 50%;\n",
              "      cursor: pointer;\n",
              "      display: none;\n",
              "      fill: #1967D2;\n",
              "      height: 32px;\n",
              "      padding: 0 0 0 0;\n",
              "      width: 32px;\n",
              "    }\n",
              "\n",
              "    .colab-df-convert:hover {\n",
              "      background-color: #E2EBFA;\n",
              "      box-shadow: 0px 1px 2px rgba(60, 64, 67, 0.3), 0px 1px 3px 1px rgba(60, 64, 67, 0.15);\n",
              "      fill: #174EA6;\n",
              "    }\n",
              "\n",
              "    [theme=dark] .colab-df-convert {\n",
              "      background-color: #3B4455;\n",
              "      fill: #D2E3FC;\n",
              "    }\n",
              "\n",
              "    [theme=dark] .colab-df-convert:hover {\n",
              "      background-color: #434B5C;\n",
              "      box-shadow: 0px 1px 3px 1px rgba(0, 0, 0, 0.15);\n",
              "      filter: drop-shadow(0px 1px 2px rgba(0, 0, 0, 0.3));\n",
              "      fill: #FFFFFF;\n",
              "    }\n",
              "  </style>\n",
              "\n",
              "      <script>\n",
              "        const buttonEl =\n",
              "          document.querySelector('#df-bc6e0335-65bc-470a-b8d8-1d35d69f62d9 button.colab-df-convert');\n",
              "        buttonEl.style.display =\n",
              "          google.colab.kernel.accessAllowed ? 'block' : 'none';\n",
              "\n",
              "        async function convertToInteractive(key) {\n",
              "          const element = document.querySelector('#df-bc6e0335-65bc-470a-b8d8-1d35d69f62d9');\n",
              "          const dataTable =\n",
              "            await google.colab.kernel.invokeFunction('convertToInteractive',\n",
              "                                                     [key], {});\n",
              "          if (!dataTable) return;\n",
              "\n",
              "          const docLinkHtml = 'Like what you see? Visit the ' +\n",
              "            '<a target=\"_blank\" href=https://colab.research.google.com/notebooks/data_table.ipynb>data table notebook</a>'\n",
              "            + ' to learn more about interactive tables.';\n",
              "          element.innerHTML = '';\n",
              "          dataTable['output_type'] = 'display_data';\n",
              "          await google.colab.output.renderOutput(dataTable, element);\n",
              "          const docLink = document.createElement('div');\n",
              "          docLink.innerHTML = docLinkHtml;\n",
              "          element.appendChild(docLink);\n",
              "        }\n",
              "      </script>\n",
              "    </div>\n",
              "  </div>\n",
              "  "
            ]
          },
          "metadata": {},
          "execution_count": 31
        }
      ]
    },
    {
      "cell_type": "markdown",
      "source": [
        "Exploratory data analysis"
      ],
      "metadata": {
        "id": "6qGETdKgX-Wa"
      }
    },
    {
      "cell_type": "code",
      "source": [
        "df.info()"
      ],
      "metadata": {
        "colab": {
          "base_uri": "https://localhost:8080/"
        },
        "id": "qp7kH7p7YADw",
        "outputId": "d86ef4e4-dd73-4238-9715-c244927f3612"
      },
      "execution_count": null,
      "outputs": [
        {
          "output_type": "stream",
          "name": "stdout",
          "text": [
            "<class 'pandas.core.frame.DataFrame'>\n",
            "Int64Index: 7056 entries, 0 to 7108\n",
            "Data columns (total 24 columns):\n",
            " #   Column         Non-Null Count  Dtype         \n",
            "---  ------         --------------  -----         \n",
            " 0   prt_id         7056 non-null   object        \n",
            " 1   area           7056 non-null   object        \n",
            " 2   int_sqft       7056 non-null   int64         \n",
            " 3   date_sale      7056 non-null   datetime64[ns]\n",
            " 4   dist_mainroad  7056 non-null   int64         \n",
            " 5   n_bedroom      7056 non-null   int64         \n",
            " 6   n_bathroom     7056 non-null   int64         \n",
            " 7   n_room         7056 non-null   int64         \n",
            " 8   sale_cond      7056 non-null   object        \n",
            " 9   park_facil     7056 non-null   object        \n",
            " 10  date_build     7056 non-null   datetime64[ns]\n",
            " 11  buildtype      7056 non-null   object        \n",
            " 12  utility_avail  7056 non-null   object        \n",
            " 13  street         7056 non-null   object        \n",
            " 14  mzzone         7056 non-null   object        \n",
            " 15  qs_rooms       7056 non-null   float64       \n",
            " 16  qs_bathroom    7056 non-null   float64       \n",
            " 17  qs_bedroom     7056 non-null   float64       \n",
            " 18  qs_overall     7056 non-null   float64       \n",
            " 19  reg_fee        7056 non-null   int64         \n",
            " 20  commis         7056 non-null   int64         \n",
            " 21  sales_price    7056 non-null   int64         \n",
            " 22  property_age   7056 non-null   int64         \n",
            " 23  total_price    7056 non-null   int64         \n",
            "dtypes: datetime64[ns](2), float64(4), int64(10), object(8)\n",
            "memory usage: 1.6+ MB\n"
          ]
        }
      ]
    },
    {
      "cell_type": "code",
      "source": [
        "ds.isna().sum()"
      ],
      "metadata": {
        "colab": {
          "base_uri": "https://localhost:8080/"
        },
        "id": "h36d6qasYG0H",
        "outputId": "2d43a55c-dd98-4cd8-c553-e2ba3e67a136"
      },
      "execution_count": null,
      "outputs": [
        {
          "output_type": "execute_result",
          "data": {
            "text/plain": [
              "area             0\n",
              "park_facil       0\n",
              "buildtype        0\n",
              "utility_avail    0\n",
              "street           0\n",
              "mzzone           0\n",
              "date_build       0\n",
              "date_sale        0\n",
              "property_age     0\n",
              "int_sqft         0\n",
              "n_bedroom        0\n",
              "n_bathroom       0\n",
              "n_room           0\n",
              "qs_overall       0\n",
              "sales_price      0\n",
              "dtype: int64"
            ]
          },
          "metadata": {},
          "execution_count": 33
        }
      ]
    },
    {
      "cell_type": "code",
      "source": [
        "ds = ds.dropna()\n",
        " \n",
        "# To reset the indices\n",
        "ds = ds.reset_index(drop = True)"
      ],
      "metadata": {
        "id": "begUpLt_YLpG"
      },
      "execution_count": null,
      "outputs": []
    },
    {
      "cell_type": "code",
      "source": [
        "ds.shape"
      ],
      "metadata": {
        "colab": {
          "base_uri": "https://localhost:8080/"
        },
        "id": "B0iBu7LWYOt5",
        "outputId": "66110740-cda9-494e-9a1a-c6c434227828"
      },
      "execution_count": null,
      "outputs": [
        {
          "output_type": "execute_result",
          "data": {
            "text/plain": [
              "(7056, 15)"
            ]
          },
          "metadata": {},
          "execution_count": 35
        }
      ]
    },
    {
      "cell_type": "code",
      "source": [
        "# Finding out the correlation between the features\n",
        "corr = ds.corr()\n",
        "corr.shape"
      ],
      "metadata": {
        "colab": {
          "base_uri": "https://localhost:8080/"
        },
        "id": "uiuPLT4VYSGU",
        "outputId": "c2635169-53c7-4399-f89a-15a72c217f76"
      },
      "execution_count": null,
      "outputs": [
        {
          "output_type": "execute_result",
          "data": {
            "text/plain": [
              "(9, 9)"
            ]
          },
          "metadata": {},
          "execution_count": 37
        }
      ]
    },
    {
      "cell_type": "markdown",
      "source": [
        "Plotting the heatmap of correlation between features"
      ],
      "metadata": {
        "id": "yCDq0JhMYWAW"
      }
    },
    {
      "cell_type": "code",
      "source": [
        "## Plotting the heatmap of correlation between features\n",
        "plt.figure(figsize=(20,20))\n",
        "sns.heatmap(corr, cbar=True, square= True, fmt='.1f', annot=True, annot_kws={'size':15}, cmap='Greens')"
      ],
      "metadata": {
        "colab": {
          "base_uri": "https://localhost:8080/",
          "height": 1000
        },
        "id": "hBf2MXKSYY-S",
        "outputId": "4f33114e-cdfa-4dbd-90ff-604c6f2bb548"
      },
      "execution_count": null,
      "outputs": [
        {
          "output_type": "execute_result",
          "data": {
            "text/plain": [
              "<matplotlib.axes._subplots.AxesSubplot at 0x7fe51e719690>"
            ]
          },
          "metadata": {},
          "execution_count": 38
        },
        {
          "output_type": "display_data",
          "data": {
            "text/plain": [
              "<Figure size 1440x1440 with 2 Axes>"
            ],
            "image/png": "[encoded data removed]"
          },
          "metadata": {
            "needs_background": "light"
          }
        }
      ]
    },
    {
      "cell_type": "code",
      "source": [
        "# View Distribution of column data\n",
        "for col in list(ds.columns):\n",
        "    print(ds[col].value_counts())"
      ],
      "metadata": {
        "colab": {
          "base_uri": "https://localhost:8080/"
        },
        "id": "onlxhes4YeYH",
        "outputId": "bd39ec1b-9c19-4304-f03c-99d5c15486e8"
      },
      "execution_count": null,
      "outputs": [
        {
          "output_type": "stream",
          "name": "stdout",
          "text": [
            "2    1691\n",
            "3    1359\n",
            "4     990\n",
            "6     975\n",
            "1     777\n",
            "0     769\n",
            "5     495\n",
            "Name: area, dtype: int64\n",
            "1    3557\n",
            "0    3499\n",
            "Name: park_facil, dtype: int64\n",
            "house         2433\n",
            "other         2312\n",
            "commercial    2311\n",
            "Name: buildtype, dtype: int64\n",
            "allpub     1875\n",
            "nosewa     1860\n",
            "nosewr     1812\n",
            "elo        1509\n",
            "Name: utility_avail, dtype: int64\n",
            "paved        2554\n",
            "gravel       2502\n",
            "no access    2000\n",
            "Name: street, dtype: int64\n",
            "rl    1849\n",
            "rh    1808\n",
            "rm    1801\n",
            "c      547\n",
            "a      533\n",
            "i      518\n",
            "Name: mzzone, dtype: int64\n",
            "1987-07-02    6\n",
            "1999-04-04    5\n",
            "1982-01-29    4\n",
            "1990-10-02    4\n",
            "1982-05-13    4\n",
            "             ..\n",
            "1954-09-10    1\n",
            "2001-02-25    1\n",
            "1988-08-06    1\n",
            "2005-02-19    1\n",
            "1961-07-24    1\n",
            "Name: date_build, Length: 5773, dtype: int64\n",
            "2009-10-06    12\n",
            "2010-11-17    10\n",
            "2012-03-15    10\n",
            "2011-04-12    10\n",
            "2009-01-06    10\n",
            "              ..\n",
            "2006-03-05     1\n",
            "2006-06-25     1\n",
            "2004-09-04     1\n",
            "2012-10-03     1\n",
            "2005-07-13     1\n",
            "Name: date_sale, Length: 2794, dtype: int64\n",
            "20    208\n",
            "19    208\n",
            "5     203\n",
            "28    200\n",
            "22    198\n",
            "16    191\n",
            "8     188\n",
            "12    186\n",
            "30    186\n",
            "7     186\n",
            "14    184\n",
            "29    183\n",
            "24    183\n",
            "17    182\n",
            "26    177\n",
            "23    177\n",
            "25    177\n",
            "10    176\n",
            "9     176\n",
            "36    174\n",
            "6     173\n",
            "18    173\n",
            "11    172\n",
            "33    170\n",
            "15    169\n",
            "21    168\n",
            "13    164\n",
            "27    162\n",
            "35    159\n",
            "39    155\n",
            "38    150\n",
            "34    149\n",
            "37    138\n",
            "31    135\n",
            "40    131\n",
            "32    129\n",
            "44     97\n",
            "42     89\n",
            "43     85\n",
            "41     83\n",
            "45     71\n",
            "48     58\n",
            "49     55\n",
            "4      52\n",
            "50     47\n",
            "47     44\n",
            "46     42\n",
            "53     21\n",
            "55     21\n",
            "51     19\n",
            "54     18\n",
            "52     13\n",
            "3       1\n",
            "Name: property_age, dtype: int64\n",
            "1781    18\n",
            "1538    15\n",
            "1514    13\n",
            "1505    13\n",
            "1634    12\n",
            "        ..\n",
            "559      1\n",
            "2479     1\n",
            "1330     1\n",
            "880      1\n",
            "598      1\n",
            "Name: int_sqft, Length: 1698, dtype: int64\n",
            "1    3773\n",
            "2    2327\n",
            "3     703\n",
            "4     253\n",
            "Name: n_bedroom, dtype: int64\n",
            "1    5552\n",
            "2    1504\n",
            "Name: n_bathroom, dtype: int64\n",
            "4    2539\n",
            "3    2112\n",
            "5    1233\n",
            "2     919\n",
            "6     253\n",
            "Name: n_room, dtype: int64\n",
            "3.540    59\n",
            "3.260    57\n",
            "3.320    56\n",
            "3.560    55\n",
            "3.360    54\n",
            "         ..\n",
            "4.615     1\n",
            "2.975     1\n",
            "4.850     1\n",
            "2.635     1\n",
            "4.940     1\n",
            "Name: qs_overall, Length: 479, dtype: int64\n",
            "6519000     2\n",
            "8460450     2\n",
            "9593250     2\n",
            "13331980    2\n",
            "6530500     2\n",
            "           ..\n",
            "6818200     1\n",
            "16025310    1\n",
            "11061120    1\n",
            "11780070    1\n",
            "9976480     1\n",
            "Name: sales_price, Length: 7005, dtype: int64\n"
          ]
        }
      ]
    },
    {
      "cell_type": "code",
      "source": [
        "ds.sales_price.plot.density(color='blue')"
      ],
      "metadata": {
        "colab": {
          "base_uri": "https://localhost:8080/",
          "height": 306
        },
        "id": "ICNh1lRkYjP4",
        "outputId": "020294d5-7622-4f17-cc4b-a9d8db0c1daa"
      },
      "execution_count": null,
      "outputs": [
        {
          "output_type": "execute_result",
          "data": {
            "text/plain": [
              "<matplotlib.axes._subplots.AxesSubplot at 0x7fe5193f77d0>"
            ]
          },
          "metadata": {},
          "execution_count": 41
        },
        {
          "output_type": "display_data",
          "data": {
            "text/plain": [
              "<Figure size 432x288 with 1 Axes>"
            ],
            "image/png": "[encoded data removed]"
          },
          "metadata": {
            "needs_background": "light"
          }
        }
      ]
    },
    {
      "cell_type": "code",
      "source": [
        "# Spliting target variable and independent variables\n",
        "X = ds.drop(['sales_price'], axis = 1)\n",
        "y = ds['sales_price']"
      ],
      "metadata": {
        "id": "NW397_QbYmt4"
      },
      "execution_count": null,
      "outputs": []
    },
    {
      "cell_type": "code",
      "source": [
        "# Splitting to training and testing data\n",
        "\n",
        "from sklearn.model_selection import train_test_split\n",
        "X_train, X_test, y_train, y_test = train_test_split(X,y, test_size = 0.3, random_state = 4)"
      ],
      "metadata": {
        "id": "JZ0GfqYrYpv5"
      },
      "execution_count": null,
      "outputs": []
    },
    {
      "cell_type": "code",
      "source": [
        "!pip install flaml"
      ],
      "metadata": {
        "colab": {
          "base_uri": "https://localhost:8080/"
        },
        "id": "kI47HanuYteT",
        "outputId": "345459e0-24ff-4c75-9c8f-9aa30d2c4c10"
      },
      "execution_count": null,
      "outputs": [
        {
          "output_type": "stream",
          "name": "stdout",
          "text": [
            "Looking in indexes: https://pypi.org/simple, https://us-python.pkg.dev/colab-wheels/public/simple/\n",
            "Collecting flaml\n",
            "  Downloading FLAML-1.0.12-py3-none-any.whl (206 kB)\n",
            "\u001b[K     |████████████████████████████████| 206 kB 2.2 MB/s \n",
            "\u001b[?25hRequirement already satisfied: xgboost>=0.90 in /usr/local/lib/python3.7/dist-packages (from flaml) (0.90)\n",
            "Requirement already satisfied: scipy>=1.4.1 in /usr/local/lib/python3.7/dist-packages (from flaml) (1.7.3)\n",
            "Requirement already satisfied: NumPy>=1.17.0rc1 in /usr/local/lib/python3.7/dist-packages (from flaml) (1.21.6)\n",
            "Requirement already satisfied: pandas>=1.1.4 in /usr/local/lib/python3.7/dist-packages (from flaml) (1.3.5)\n",
            "Requirement already satisfied: scikit-learn>=0.24 in /usr/local/lib/python3.7/dist-packages (from flaml) (1.0.2)\n",
            "Collecting lightgbm>=2.3.1\n",
            "  Downloading lightgbm-3.3.2-py3-none-manylinux1_x86_64.whl (2.0 MB)\n",
            "\u001b[K     |████████████████████████████████| 2.0 MB 31.0 MB/s \n",
            "\u001b[?25hRequirement already satisfied: wheel in /usr/local/lib/python3.7/dist-packages (from lightgbm>=2.3.1->flaml) (0.37.1)\n",
            "Requirement already satisfied: pytz>=2017.3 in /usr/local/lib/python3.7/dist-packages (from pandas>=1.1.4->flaml) (2022.2.1)\n",
            "Requirement already satisfied: python-dateutil>=2.7.3 in /usr/local/lib/python3.7/dist-packages (from pandas>=1.1.4->flaml) (2.8.2)\n",
            "Requirement already satisfied: six>=1.5 in /usr/local/lib/python3.7/dist-packages (from python-dateutil>=2.7.3->pandas>=1.1.4->flaml) (1.15.0)\n",
            "Requirement already satisfied: joblib>=0.11 in /usr/local/lib/python3.7/dist-packages (from scikit-learn>=0.24->flaml) (1.1.0)\n",
            "Requirement already satisfied: threadpoolctl>=2.0.0 in /usr/local/lib/python3.7/dist-packages (from scikit-learn>=0.24->flaml) (3.1.0)\n",
            "Installing collected packages: lightgbm, flaml\n",
            "  Attempting uninstall: lightgbm\n",
            "    Found existing installation: lightgbm 2.2.3\n",
            "    Uninstalling lightgbm-2.2.3:\n",
            "      Successfully uninstalled lightgbm-2.2.3\n",
            "Successfully installed flaml-1.0.12 lightgbm-3.3.2\n"
          ]
        }
      ]
    },
    {
      "cell_type": "code",
      "source": [
        "\n",
        "from flaml import AutoML\n",
        "automl_log = AutoML() "
      ],
      "metadata": {
        "id": "nqPOZXd_YxOM"
      },
      "execution_count": null,
      "outputs": []
    },
    {
      "cell_type": "code",
      "source": [
        "automl_log.fit(X_train, y_train, task=\"regression\",metric='r2',time_budget=60,estimator_list = ['lgbm'],\n",
        "          n_splits=10)"
      ],
      "metadata": {
        "colab": {
          "base_uri": "https://localhost:8080/"
        },
        "id": "GbOSaCReY0oG",
        "outputId": "3c0f27d4-ce8b-4421-a9db-2bcd36d3dff0"
      },
      "execution_count": null,
      "outputs": [
        {
          "output_type": "stream",
          "name": "stderr",
          "text": [
            "[flaml.automl: 09-24 16:26:48] {2600} INFO - task = regression\n",
            "INFO:flaml.automl:task = regression\n",
            "[flaml.automl: 09-24 16:26:48] {2602} INFO - Data split method: uniform\n",
            "INFO:flaml.automl:Data split method: uniform\n",
            "[flaml.automl: 09-24 16:26:48] {2605} INFO - Evaluation method: cv\n",
            "INFO:flaml.automl:Evaluation method: cv\n",
            "[flaml.automl: 09-24 16:26:48] {2727} INFO - Minimizing error metric: 1-r2\n",
            "INFO:flaml.automl:Minimizing error metric: 1-r2\n",
            "[flaml.automl: 09-24 16:26:48] {2869} INFO - List of ML learners in AutoML Run: ['lgbm']\n",
            "INFO:flaml.automl:List of ML learners in AutoML Run: ['lgbm']\n",
            "[flaml.automl: 09-24 16:26:48] {3174} INFO - iteration 0, current learner lgbm\n",
            "INFO:flaml.automl:iteration 0, current learner lgbm\n",
            "[flaml.automl: 09-24 16:26:49] {3308} INFO - Estimated sufficient time budget=4591s. Estimated necessary time budget=5s.\n",
            "INFO:flaml.automl:Estimated sufficient time budget=4591s. Estimated necessary time budget=5s.\n",
            "[flaml.automl: 09-24 16:26:49] {3360} INFO -  at 0.8s,\testimator lgbm's best error=0.6431,\tbest estimator lgbm's best error=0.6431\n",
            "INFO:flaml.automl: at 0.8s,\testimator lgbm's best error=0.6431,\tbest estimator lgbm's best error=0.6431\n",
            "[flaml.automl: 09-24 16:26:49] {3174} INFO - iteration 1, current learner lgbm\n",
            "INFO:flaml.automl:iteration 1, current learner lgbm\n",
            "[flaml.automl: 09-24 16:26:49] {3360} INFO -  at 1.2s,\testimator lgbm's best error=0.6431,\tbest estimator lgbm's best error=0.6431\n",
            "INFO:flaml.automl: at 1.2s,\testimator lgbm's best error=0.6431,\tbest estimator lgbm's best error=0.6431\n",
            "[flaml.automl: 09-24 16:26:49] {3174} INFO - iteration 2, current learner lgbm\n",
            "INFO:flaml.automl:iteration 2, current learner lgbm\n",
            "[flaml.automl: 09-24 16:26:50] {3360} INFO -  at 1.7s,\testimator lgbm's best error=0.3494,\tbest estimator lgbm's best error=0.3494\n",
            "INFO:flaml.automl: at 1.7s,\testimator lgbm's best error=0.3494,\tbest estimator lgbm's best error=0.3494\n",
            "[flaml.automl: 09-24 16:26:50] {3174} INFO - iteration 3, current learner lgbm\n",
            "INFO:flaml.automl:iteration 3, current learner lgbm\n",
            "[flaml.automl: 09-24 16:26:50] {3360} INFO -  at 2.2s,\testimator lgbm's best error=0.0672,\tbest estimator lgbm's best error=0.0672\n",
            "INFO:flaml.automl: at 2.2s,\testimator lgbm's best error=0.0672,\tbest estimator lgbm's best error=0.0672\n",
            "[flaml.automl: 09-24 16:26:50] {3174} INFO - iteration 4, current learner lgbm\n",
            "INFO:flaml.automl:iteration 4, current learner lgbm\n",
            "[flaml.automl: 09-24 16:26:50] {3360} INFO -  at 2.6s,\testimator lgbm's best error=0.0672,\tbest estimator lgbm's best error=0.0672\n",
            "INFO:flaml.automl: at 2.6s,\testimator lgbm's best error=0.0672,\tbest estimator lgbm's best error=0.0672\n",
            "[flaml.automl: 09-24 16:26:50] {3174} INFO - iteration 5, current learner lgbm\n",
            "INFO:flaml.automl:iteration 5, current learner lgbm\n",
            "[flaml.automl: 09-24 16:26:51] {3360} INFO -  at 3.0s,\testimator lgbm's best error=0.0567,\tbest estimator lgbm's best error=0.0567\n",
            "INFO:flaml.automl: at 3.0s,\testimator lgbm's best error=0.0567,\tbest estimator lgbm's best error=0.0567\n",
            "[flaml.automl: 09-24 16:26:51] {3174} INFO - iteration 6, current learner lgbm\n",
            "INFO:flaml.automl:iteration 6, current learner lgbm\n",
            "[flaml.automl: 09-24 16:26:51] {3360} INFO -  at 3.5s,\testimator lgbm's best error=0.0567,\tbest estimator lgbm's best error=0.0567\n",
            "INFO:flaml.automl: at 3.5s,\testimator lgbm's best error=0.0567,\tbest estimator lgbm's best error=0.0567\n",
            "[flaml.automl: 09-24 16:26:51] {3174} INFO - iteration 7, current learner lgbm\n",
            "INFO:flaml.automl:iteration 7, current learner lgbm\n",
            "[flaml.automl: 09-24 16:26:52] {3360} INFO -  at 4.0s,\testimator lgbm's best error=0.0567,\tbest estimator lgbm's best error=0.0567\n",
            "INFO:flaml.automl: at 4.0s,\testimator lgbm's best error=0.0567,\tbest estimator lgbm's best error=0.0567\n",
            "[flaml.automl: 09-24 16:26:52] {3174} INFO - iteration 8, current learner lgbm\n",
            "INFO:flaml.automl:iteration 8, current learner lgbm\n",
            "[flaml.automl: 09-24 16:26:52] {3360} INFO -  at 4.6s,\testimator lgbm's best error=0.0269,\tbest estimator lgbm's best error=0.0269\n",
            "INFO:flaml.automl: at 4.6s,\testimator lgbm's best error=0.0269,\tbest estimator lgbm's best error=0.0269\n",
            "[flaml.automl: 09-24 16:26:52] {3174} INFO - iteration 9, current learner lgbm\n",
            "INFO:flaml.automl:iteration 9, current learner lgbm\n",
            "[flaml.automl: 09-24 16:26:53] {3360} INFO -  at 5.0s,\testimator lgbm's best error=0.0269,\tbest estimator lgbm's best error=0.0269\n",
            "INFO:flaml.automl: at 5.0s,\testimator lgbm's best error=0.0269,\tbest estimator lgbm's best error=0.0269\n",
            "[flaml.automl: 09-24 16:26:53] {3174} INFO - iteration 10, current learner lgbm\n",
            "INFO:flaml.automl:iteration 10, current learner lgbm\n",
            "[flaml.automl: 09-24 16:26:54] {3360} INFO -  at 6.5s,\testimator lgbm's best error=0.0073,\tbest estimator lgbm's best error=0.0073\n",
            "INFO:flaml.automl: at 6.5s,\testimator lgbm's best error=0.0073,\tbest estimator lgbm's best error=0.0073\n",
            "[flaml.automl: 09-24 16:26:54] {3174} INFO - iteration 11, current learner lgbm\n",
            "INFO:flaml.automl:iteration 11, current learner lgbm\n",
            "[flaml.automl: 09-24 16:26:56] {3360} INFO -  at 8.2s,\testimator lgbm's best error=0.0073,\tbest estimator lgbm's best error=0.0073\n",
            "INFO:flaml.automl: at 8.2s,\testimator lgbm's best error=0.0073,\tbest estimator lgbm's best error=0.0073\n",
            "[flaml.automl: 09-24 16:26:56] {3174} INFO - iteration 12, current learner lgbm\n",
            "INFO:flaml.automl:iteration 12, current learner lgbm\n",
            "[flaml.automl: 09-24 16:26:57] {3360} INFO -  at 9.3s,\testimator lgbm's best error=0.0073,\tbest estimator lgbm's best error=0.0073\n",
            "INFO:flaml.automl: at 9.3s,\testimator lgbm's best error=0.0073,\tbest estimator lgbm's best error=0.0073\n",
            "[flaml.automl: 09-24 16:26:57] {3174} INFO - iteration 13, current learner lgbm\n",
            "INFO:flaml.automl:iteration 13, current learner lgbm\n",
            "[flaml.automl: 09-24 16:26:58] {3360} INFO -  at 10.6s,\testimator lgbm's best error=0.0073,\tbest estimator lgbm's best error=0.0073\n",
            "INFO:flaml.automl: at 10.6s,\testimator lgbm's best error=0.0073,\tbest estimator lgbm's best error=0.0073\n",
            "[flaml.automl: 09-24 16:26:58] {3174} INFO - iteration 14, current learner lgbm\n",
            "INFO:flaml.automl:iteration 14, current learner lgbm\n",
            "[flaml.automl: 09-24 16:27:00] {3360} INFO -  at 12.2s,\testimator lgbm's best error=0.0073,\tbest estimator lgbm's best error=0.0073\n",
            "INFO:flaml.automl: at 12.2s,\testimator lgbm's best error=0.0073,\tbest estimator lgbm's best error=0.0073\n",
            "[flaml.automl: 09-24 16:27:00] {3174} INFO - iteration 15, current learner lgbm\n",
            "INFO:flaml.automl:iteration 15, current learner lgbm\n",
            "[flaml.automl: 09-24 16:27:02] {3360} INFO -  at 14.3s,\testimator lgbm's best error=0.0073,\tbest estimator lgbm's best error=0.0073\n",
            "INFO:flaml.automl: at 14.3s,\testimator lgbm's best error=0.0073,\tbest estimator lgbm's best error=0.0073\n",
            "[flaml.automl: 09-24 16:27:02] {3174} INFO - iteration 16, current learner lgbm\n",
            "INFO:flaml.automl:iteration 16, current learner lgbm\n",
            "[flaml.automl: 09-24 16:27:03] {3360} INFO -  at 15.4s,\testimator lgbm's best error=0.0073,\tbest estimator lgbm's best error=0.0073\n",
            "INFO:flaml.automl: at 15.4s,\testimator lgbm's best error=0.0073,\tbest estimator lgbm's best error=0.0073\n",
            "[flaml.automl: 09-24 16:27:03] {3174} INFO - iteration 17, current learner lgbm\n",
            "INFO:flaml.automl:iteration 17, current learner lgbm\n",
            "[flaml.automl: 09-24 16:27:06] {3360} INFO -  at 18.5s,\testimator lgbm's best error=0.0073,\tbest estimator lgbm's best error=0.0073\n",
            "INFO:flaml.automl: at 18.5s,\testimator lgbm's best error=0.0073,\tbest estimator lgbm's best error=0.0073\n",
            "[flaml.automl: 09-24 16:27:06] {3174} INFO - iteration 18, current learner lgbm\n",
            "INFO:flaml.automl:iteration 18, current learner lgbm\n",
            "[flaml.automl: 09-24 16:27:07] {3360} INFO -  at 19.6s,\testimator lgbm's best error=0.0073,\tbest estimator lgbm's best error=0.0073\n",
            "INFO:flaml.automl: at 19.6s,\testimator lgbm's best error=0.0073,\tbest estimator lgbm's best error=0.0073\n",
            "[flaml.automl: 09-24 16:27:07] {3174} INFO - iteration 19, current learner lgbm\n",
            "INFO:flaml.automl:iteration 19, current learner lgbm\n",
            "[flaml.automl: 09-24 16:27:08] {3360} INFO -  at 20.5s,\testimator lgbm's best error=0.0073,\tbest estimator lgbm's best error=0.0073\n",
            "INFO:flaml.automl: at 20.5s,\testimator lgbm's best error=0.0073,\tbest estimator lgbm's best error=0.0073\n",
            "[flaml.automl: 09-24 16:27:08] {3174} INFO - iteration 20, current learner lgbm\n",
            "INFO:flaml.automl:iteration 20, current learner lgbm\n",
            "[flaml.automl: 09-24 16:27:11] {3360} INFO -  at 22.9s,\testimator lgbm's best error=0.0073,\tbest estimator lgbm's best error=0.0073\n",
            "INFO:flaml.automl: at 22.9s,\testimator lgbm's best error=0.0073,\tbest estimator lgbm's best error=0.0073\n",
            "[flaml.automl: 09-24 16:27:11] {3174} INFO - iteration 21, current learner lgbm\n",
            "INFO:flaml.automl:iteration 21, current learner lgbm\n",
            "[flaml.automl: 09-24 16:27:13] {3360} INFO -  at 24.9s,\testimator lgbm's best error=0.0073,\tbest estimator lgbm's best error=0.0073\n",
            "INFO:flaml.automl: at 24.9s,\testimator lgbm's best error=0.0073,\tbest estimator lgbm's best error=0.0073\n",
            "[flaml.automl: 09-24 16:27:13] {3174} INFO - iteration 22, current learner lgbm\n",
            "INFO:flaml.automl:iteration 22, current learner lgbm\n",
            "[flaml.automl: 09-24 16:27:14] {3360} INFO -  at 26.0s,\testimator lgbm's best error=0.0073,\tbest estimator lgbm's best error=0.0073\n",
            "INFO:flaml.automl: at 26.0s,\testimator lgbm's best error=0.0073,\tbest estimator lgbm's best error=0.0073\n",
            "[flaml.automl: 09-24 16:27:14] {3174} INFO - iteration 23, current learner lgbm\n",
            "INFO:flaml.automl:iteration 23, current learner lgbm\n",
            "[flaml.automl: 09-24 16:27:15] {3360} INFO -  at 27.4s,\testimator lgbm's best error=0.0073,\tbest estimator lgbm's best error=0.0073\n",
            "INFO:flaml.automl: at 27.4s,\testimator lgbm's best error=0.0073,\tbest estimator lgbm's best error=0.0073\n",
            "[flaml.automl: 09-24 16:27:15] {3174} INFO - iteration 24, current learner lgbm\n",
            "INFO:flaml.automl:iteration 24, current learner lgbm\n",
            "[flaml.automl: 09-24 16:27:17] {3360} INFO -  at 28.7s,\testimator lgbm's best error=0.0073,\tbest estimator lgbm's best error=0.0073\n",
            "INFO:flaml.automl: at 28.7s,\testimator lgbm's best error=0.0073,\tbest estimator lgbm's best error=0.0073\n",
            "[flaml.automl: 09-24 16:27:17] {3174} INFO - iteration 25, current learner lgbm\n",
            "INFO:flaml.automl:iteration 25, current learner lgbm\n",
            "[flaml.automl: 09-24 16:27:19] {3360} INFO -  at 31.5s,\testimator lgbm's best error=0.0073,\tbest estimator lgbm's best error=0.0073\n",
            "INFO:flaml.automl: at 31.5s,\testimator lgbm's best error=0.0073,\tbest estimator lgbm's best error=0.0073\n",
            "[flaml.automl: 09-24 16:27:19] {3174} INFO - iteration 26, current learner lgbm\n",
            "INFO:flaml.automl:iteration 26, current learner lgbm\n",
            "[flaml.automl: 09-24 16:27:20] {3360} INFO -  at 32.5s,\testimator lgbm's best error=0.0073,\tbest estimator lgbm's best error=0.0073\n",
            "INFO:flaml.automl: at 32.5s,\testimator lgbm's best error=0.0073,\tbest estimator lgbm's best error=0.0073\n",
            "[flaml.automl: 09-24 16:27:20] {3174} INFO - iteration 27, current learner lgbm\n",
            "INFO:flaml.automl:iteration 27, current learner lgbm\n",
            "[flaml.automl: 09-24 16:27:23] {3360} INFO -  at 34.9s,\testimator lgbm's best error=0.0073,\tbest estimator lgbm's best error=0.0073\n",
            "INFO:flaml.automl: at 34.9s,\testimator lgbm's best error=0.0073,\tbest estimator lgbm's best error=0.0073\n",
            "[flaml.automl: 09-24 16:27:23] {3174} INFO - iteration 28, current learner lgbm\n",
            "INFO:flaml.automl:iteration 28, current learner lgbm\n",
            "[flaml.automl: 09-24 16:27:24] {3360} INFO -  at 35.9s,\testimator lgbm's best error=0.0073,\tbest estimator lgbm's best error=0.0073\n",
            "INFO:flaml.automl: at 35.9s,\testimator lgbm's best error=0.0073,\tbest estimator lgbm's best error=0.0073\n",
            "[flaml.automl: 09-24 16:27:24] {3174} INFO - iteration 29, current learner lgbm\n",
            "INFO:flaml.automl:iteration 29, current learner lgbm\n",
            "[flaml.automl: 09-24 16:27:24] {3360} INFO -  at 36.6s,\testimator lgbm's best error=0.0073,\tbest estimator lgbm's best error=0.0073\n",
            "INFO:flaml.automl: at 36.6s,\testimator lgbm's best error=0.0073,\tbest estimator lgbm's best error=0.0073\n",
            "[flaml.automl: 09-24 16:27:24] {3174} INFO - iteration 30, current learner lgbm\n",
            "INFO:flaml.automl:iteration 30, current learner lgbm\n",
            "[flaml.automl: 09-24 16:27:28] {3360} INFO -  at 39.8s,\testimator lgbm's best error=0.0073,\tbest estimator lgbm's best error=0.0073\n",
            "INFO:flaml.automl: at 39.8s,\testimator lgbm's best error=0.0073,\tbest estimator lgbm's best error=0.0073\n",
            "[flaml.automl: 09-24 16:27:28] {3174} INFO - iteration 31, current learner lgbm\n",
            "INFO:flaml.automl:iteration 31, current learner lgbm\n",
            "[flaml.automl: 09-24 16:27:29] {3360} INFO -  at 40.8s,\testimator lgbm's best error=0.0073,\tbest estimator lgbm's best error=0.0073\n",
            "INFO:flaml.automl: at 40.8s,\testimator lgbm's best error=0.0073,\tbest estimator lgbm's best error=0.0073\n",
            "[flaml.automl: 09-24 16:27:29] {3174} INFO - iteration 32, current learner lgbm\n",
            "INFO:flaml.automl:iteration 32, current learner lgbm\n",
            "[flaml.automl: 09-24 16:27:31] {3360} INFO -  at 42.9s,\testimator lgbm's best error=0.0069,\tbest estimator lgbm's best error=0.0069\n",
            "INFO:flaml.automl: at 42.9s,\testimator lgbm's best error=0.0069,\tbest estimator lgbm's best error=0.0069\n",
            "[flaml.automl: 09-24 16:27:31] {3174} INFO - iteration 33, current learner lgbm\n",
            "INFO:flaml.automl:iteration 33, current learner lgbm\n",
            "[flaml.automl: 09-24 16:27:33] {3360} INFO -  at 45.1s,\testimator lgbm's best error=0.0069,\tbest estimator lgbm's best error=0.0069\n",
            "INFO:flaml.automl: at 45.1s,\testimator lgbm's best error=0.0069,\tbest estimator lgbm's best error=0.0069\n",
            "[flaml.automl: 09-24 16:27:33] {3174} INFO - iteration 34, current learner lgbm\n",
            "INFO:flaml.automl:iteration 34, current learner lgbm\n",
            "[flaml.automl: 09-24 16:27:35] {3360} INFO -  at 47.4s,\testimator lgbm's best error=0.0069,\tbest estimator lgbm's best error=0.0069\n",
            "INFO:flaml.automl: at 47.4s,\testimator lgbm's best error=0.0069,\tbest estimator lgbm's best error=0.0069\n",
            "[flaml.automl: 09-24 16:27:35] {3174} INFO - iteration 35, current learner lgbm\n",
            "INFO:flaml.automl:iteration 35, current learner lgbm\n",
            "[flaml.automl: 09-24 16:27:41] {3360} INFO -  at 53.2s,\testimator lgbm's best error=0.0067,\tbest estimator lgbm's best error=0.0067\n",
            "INFO:flaml.automl: at 53.2s,\testimator lgbm's best error=0.0067,\tbest estimator lgbm's best error=0.0067\n",
            "[flaml.automl: 09-24 16:27:41] {3174} INFO - iteration 36, current learner lgbm\n",
            "INFO:flaml.automl:iteration 36, current learner lgbm\n",
            "[flaml.automl: 09-24 16:27:43] {3360} INFO -  at 55.4s,\testimator lgbm's best error=0.0067,\tbest estimator lgbm's best error=0.0067\n",
            "INFO:flaml.automl: at 55.4s,\testimator lgbm's best error=0.0067,\tbest estimator lgbm's best error=0.0067\n",
            "[flaml.automl: 09-24 16:27:44] {3620} INFO - retrain lgbm for 0.6s\n",
            "INFO:flaml.automl:retrain lgbm for 0.6s\n",
            "[flaml.automl: 09-24 16:27:44] {3625} INFO - retrained model: LGBMRegressor(colsample_bytree=0.7349300082597682,\n",
            "              learning_rate=0.22157495561363227, max_bin=255,\n",
            "              min_child_samples=5, n_estimators=648, num_leaves=9,\n",
            "              reg_alpha=0.0012603170529968141, reg_lambda=0.017588378891997564,\n",
            "              verbose=-1)\n",
            "INFO:flaml.automl:retrained model: LGBMRegressor(colsample_bytree=0.7349300082597682,\n",
            "              learning_rate=0.22157495561363227, max_bin=255,\n",
            "              min_child_samples=5, n_estimators=648, num_leaves=9,\n",
            "              reg_alpha=0.0012603170529968141, reg_lambda=0.017588378891997564,\n",
            "              verbose=-1)\n",
            "[flaml.automl: 09-24 16:27:44] {2900} INFO - fit succeeded\n",
            "INFO:flaml.automl:fit succeeded\n",
            "[flaml.automl: 09-24 16:27:44] {2902} INFO - Time taken to find the best model: 53.24323034286499\n",
            "INFO:flaml.automl:Time taken to find the best model: 53.24323034286499\n",
            "[flaml.automl: 09-24 16:27:44] {2916} WARNING - Time taken to find the best model is 89% of the provided time budget and not all estimators' hyperparameter search converged. Consider increasing the time budget.\n",
            "WARNING:flaml.automl:Time taken to find the best model is 89% of the provided time budget and not all estimators' hyperparameter search converged. Consider increasing the time budget.\n"
          ]
        }
      ]
    },
    {
      "cell_type": "code",
      "source": [
        "print(1-automl_log.best_loss)"
      ],
      "metadata": {
        "colab": {
          "base_uri": "https://localhost:8080/"
        },
        "id": "ExmAZ6xHY6WP",
        "outputId": "9562cf5f-fee7-454a-de1b-5a341a6224a6"
      },
      "execution_count": null,
      "outputs": [
        {
          "output_type": "stream",
          "name": "stdout",
          "text": [
            "0.9933466107571848\n"
          ]
        }
      ]
    },
    {
      "cell_type": "code",
      "source": [
        "# Convert the prediction in original format\n",
        "test_pred_log = np.exp(automl_log.predict(X_test))-1"
      ],
      "metadata": {
        "colab": {
          "base_uri": "https://localhost:8080/"
        },
        "id": "SwK6v4XmZG0v",
        "outputId": "99aab812-05ea-49c1-dfa7-9d18e46e8a83"
      },
      "execution_count": null,
      "outputs": [
        {
          "output_type": "stream",
          "name": "stderr",
          "text": [
            "/usr/local/lib/python3.7/dist-packages/ipykernel_launcher.py:2: RuntimeWarning: overflow encountered in exp\n",
            "  \n"
          ]
        }
      ]
    },
    {
      "cell_type": "markdown",
      "source": [
        "Retreiving best configuration"
      ],
      "metadata": {
        "id": "fCN8IDr6ZKRD"
      }
    },
    {
      "cell_type": "code",
      "source": [
        "print('Best hyperparmeter config:', automl_log.best_config)\n",
        "print('Best r2 on validation data: {0:.4g}'.format(1-automl_log.best_loss))\n",
        "print('Training duration of best run: {0:.4g} s'.format(automl_log.best_config_train_time))\n",
        "print(automl_log.model.estimator)"
      ],
      "metadata": {
        "colab": {
          "base_uri": "https://localhost:8080/"
        },
        "id": "Y8GgKypNZNK6",
        "outputId": "94acfcde-dcdf-4bc2-8ce3-8a465f4f50c6"
      },
      "execution_count": null,
      "outputs": [
        {
          "output_type": "stream",
          "name": "stdout",
          "text": [
            "Best hyperparmeter config: {'n_estimators': 648, 'num_leaves': 9, 'min_child_samples': 5, 'learning_rate': 0.22157495561363227, 'log_max_bin': 8, 'colsample_bytree': 0.7349300082597682, 'reg_alpha': 0.0012603170529968141, 'reg_lambda': 0.017588378891997564}\n",
            "Best r2 on validation data: 0.9933\n",
            "Training duration of best run: 0.6145 s\n",
            "LGBMRegressor(colsample_bytree=0.7349300082597682,\n",
            "              learning_rate=0.22157495561363227, max_bin=255,\n",
            "              min_child_samples=5, n_estimators=648, num_leaves=9,\n",
            "              reg_alpha=0.0012603170529968141, reg_lambda=0.017588378891997564,\n",
            "              verbose=-1)\n"
          ]
        }
      ]
    },
    {
      "cell_type": "markdown",
      "source": [
        "Feature importance"
      ],
      "metadata": {
        "id": "tnR1C1NNZTK2"
      }
    },
    {
      "cell_type": "code",
      "source": [
        "import matplotlib.pyplot as plt\n",
        "plt.barh(automl_log.feature_names_in_, automl_log.feature_importances_)"
      ],
      "metadata": {
        "colab": {
          "base_uri": "https://localhost:8080/",
          "height": 282
        },
        "id": "nqAQ6G4eZVuk",
        "outputId": "297dc5de-205a-4988-a5e1-686eaaf2c202"
      },
      "execution_count": null,
      "outputs": [
        {
          "output_type": "execute_result",
          "data": {
            "text/plain": [
              "<BarContainer object of 26 artists>"
            ]
          },
          "metadata": {},
          "execution_count": 50
        },
        {
          "output_type": "display_data",
          "data": {
            "text/plain": [
              "<Figure size 432x288 with 1 Axes>"
            ],
            "image/png": "[encoded data removed]"
          },
          "metadata": {
            "needs_background": "light"
          }
        }
      ]
    },
    {
      "cell_type": "markdown",
      "source": [
        "Predictions"
      ],
      "metadata": {
        "id": "LS0QgYYjZbyi"
      }
    },
    {
      "cell_type": "code",
      "source": [
        "y_pred = automl_log.predict(X_test)\n",
        "print('Predicted labels', y_pred)"
      ],
      "metadata": {
        "colab": {
          "base_uri": "https://localhost:8080/"
        },
        "id": "bfLWyTi6ZgmG",
        "outputId": "747af5c6-a3a4-49ff-9b0b-a872f0b7162d"
      },
      "execution_count": null,
      "outputs": [
        {
          "output_type": "stream",
          "name": "stdout",
          "text": [
            "Predicted labels [ 7107024.37317945  8966987.98475378 11861913.06328405 ...\n",
            " 13590209.18303718 12430067.98164107 20947929.06061732]\n"
          ]
        }
      ]
    },
    {
      "cell_type": "markdown",
      "source": [
        "Calculating different metrics"
      ],
      "metadata": {
        "id": "Dr3IeWOSZkTI"
      }
    },
    {
      "cell_type": "code",
      "source": [
        "from flaml.ml import sklearn_metric_loss_score\n",
        "print('r2', '=', 1 - sklearn_metric_loss_score('r2', y_pred, y_test))"
      ],
      "metadata": {
        "colab": {
          "base_uri": "https://localhost:8080/"
        },
        "id": "BjY2CMGZZnsS",
        "outputId": "e24762af-e9d0-426a-abb8-609f3a16dc11"
      },
      "execution_count": null,
      "outputs": [
        {
          "output_type": "stream",
          "name": "stdout",
          "text": [
            "r2 = 0.9941678882197265\n"
          ]
        }
      ]
    }
  ]
}